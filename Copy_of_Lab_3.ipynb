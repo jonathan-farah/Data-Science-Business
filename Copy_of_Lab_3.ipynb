{
  "nbformat": 4,
  "nbformat_minor": 0,
  "metadata": {
    "colab": {
      "provenance": [],
      "toc_visible": true
    },
    "kernelspec": {
      "name": "python3",
      "display_name": "Python 3"
    },
    "language_info": {
      "name": "python"
    }
  },
  "cells": [
    {
      "cell_type": "markdown",
      "source": [
        "# Lab 3 - Visualization, Model and Decision Tree\n",
        "---\n",
        "**Summer 2025 - Intructor: Joyce Yang**\n",
        "\n",
        "**Adapted from teaching materials by Prof. Chris Volinksy Fall 2024.**\n",
        "\n",
        "***Visualization Part - Original notebook developed 2024 by Krutika Savani***\n",
        "***Decision Tree Part - Original Notebooks courtesy of Prof. Foster Provost and Rubing Li***"
      ],
      "metadata": {
        "id": "qVKSTrqi4msZ"
      }
    },
    {
      "cell_type": "markdown",
      "source": [
        "**This notebook focused on data!**\n",
        "\n",
        "In this notebook, we will walk through\n",
        "1. Fitting Models\n",
        "3. Decision Trees\n",
        "\n",
        "This notebook might be heavy load, work on mandatory task first and then work on optional task if you have time. You won't be penalize if you didn't finish optional task.\n",
        "\n",
        "Since Lab 2, you’ve learned how to read official documentation.\n",
        "In this notebook—and the ones that follow—I will **no longer include direct links** to relevant Python function documentation. Instead, I will provide the **names of the necessary functions**.\n",
        "\n",
        "It is your responsibility to **search for and identify the correct official documentation** (e.g., using Google, not GenAI). I understand that this process might feel time-consuming, but trust me—the payoff is well worth it in the long run.\n",
        "\n",
        "**Before we begin, remember to save this notebook IN YOUR OWN GOOGLE DRIVE**.  That way you have your own copy to work on, edit and share."
      ],
      "metadata": {
        "id": "R0K7-hNo4us5"
      }
    },
    {
      "cell_type": "markdown",
      "source": [
        "## Fitting Model\n",
        "\n",
        "One of the powerful ways we use python and pandas is the ease with which we can build powerful predictive models.  The structure follows a basic structure that can be reused to fit many different types of models.   \n",
        "\n",
        "Lets use a standard data set on features of college students to build a simple model to predict the graduation rate (Y) from the other data available on students (X)."
      ],
      "metadata": {
        "id": "Xd4O9UzW-Bnb"
      }
    },
    {
      "cell_type": "code",
      "source": [
        "import pandas as pd\n",
        "import sklearn as sk\n",
        "from sklearn.model_selection import train_test_split\n",
        "from sklearn.linear_model import LinearRegression\n",
        "from sklearn.tree import DecisionTreeClassifier\n",
        "from sklearn.metrics import accuracy_score\n",
        "import matplotlib.pyplot as plt\n",
        "from sklearn.metrics import mean_squared_error\n",
        "import numpy as np\n",
        "import seaborn as sns\n",
        "import re\n",
        "from sklearn.tree import plot_tree\n",
        "# this trick is required to get plots to display inline with the rest of your notebook,\n",
        "# not in a separate window\n",
        "%matplotlib inline"
      ],
      "metadata": {
        "id": "DE4wY101-hj0"
      },
      "execution_count": 67,
      "outputs": []
    },
    {
      "cell_type": "markdown",
      "source": [
        "### Loading College Data"
      ],
      "metadata": {
        "id": "gbXLUbJ-EJ5W"
      }
    },
    {
      "cell_type": "markdown",
      "source": [
        "Recall `College.csv` - download again to your local machine if needed by [clicking on this link](https://www.statlearning.com/s/College.csv)."
      ],
      "metadata": {
        "id": "SAIV2bHi-zw2"
      }
    },
    {
      "cell_type": "code",
      "source": [
        "from google.colab import files\n",
        "uploaded = files.upload()"
      ],
      "metadata": {
        "colab": {
          "base_uri": "https://localhost:8080/",
          "height": 73
        },
        "id": "PEE1m5CF-8iL",
        "outputId": "fd009137-0da6-42c5-e97f-328cefd39327"
      },
      "execution_count": 1,
      "outputs": [
        {
          "output_type": "display_data",
          "data": {
            "text/plain": [
              "<IPython.core.display.HTML object>"
            ],
            "text/html": [
              "\n",
              "     <input type=\"file\" id=\"files-fb4da1ea-3c59-47ef-b856-eedfd81fdfcd\" name=\"files[]\" multiple disabled\n",
              "        style=\"border:none\" />\n",
              "     <output id=\"result-fb4da1ea-3c59-47ef-b856-eedfd81fdfcd\">\n",
              "      Upload widget is only available when the cell has been executed in the\n",
              "      current browser session. Please rerun this cell to enable.\n",
              "      </output>\n",
              "      <script>// Copyright 2017 Google LLC\n",
              "//\n",
              "// Licensed under the Apache License, Version 2.0 (the \"License\");\n",
              "// you may not use this file except in compliance with the License.\n",
              "// You may obtain a copy of the License at\n",
              "//\n",
              "//      http://www.apache.org/licenses/LICENSE-2.0\n",
              "//\n",
              "// Unless required by applicable law or agreed to in writing, software\n",
              "// distributed under the License is distributed on an \"AS IS\" BASIS,\n",
              "// WITHOUT WARRANTIES OR CONDITIONS OF ANY KIND, either express or implied.\n",
              "// See the License for the specific language governing permissions and\n",
              "// limitations under the License.\n",
              "\n",
              "/**\n",
              " * @fileoverview Helpers for google.colab Python module.\n",
              " */\n",
              "(function(scope) {\n",
              "function span(text, styleAttributes = {}) {\n",
              "  const element = document.createElement('span');\n",
              "  element.textContent = text;\n",
              "  for (const key of Object.keys(styleAttributes)) {\n",
              "    element.style[key] = styleAttributes[key];\n",
              "  }\n",
              "  return element;\n",
              "}\n",
              "\n",
              "// Max number of bytes which will be uploaded at a time.\n",
              "const MAX_PAYLOAD_SIZE = 100 * 1024;\n",
              "\n",
              "function _uploadFiles(inputId, outputId) {\n",
              "  const steps = uploadFilesStep(inputId, outputId);\n",
              "  const outputElement = document.getElementById(outputId);\n",
              "  // Cache steps on the outputElement to make it available for the next call\n",
              "  // to uploadFilesContinue from Python.\n",
              "  outputElement.steps = steps;\n",
              "\n",
              "  return _uploadFilesContinue(outputId);\n",
              "}\n",
              "\n",
              "// This is roughly an async generator (not supported in the browser yet),\n",
              "// where there are multiple asynchronous steps and the Python side is going\n",
              "// to poll for completion of each step.\n",
              "// This uses a Promise to block the python side on completion of each step,\n",
              "// then passes the result of the previous step as the input to the next step.\n",
              "function _uploadFilesContinue(outputId) {\n",
              "  const outputElement = document.getElementById(outputId);\n",
              "  const steps = outputElement.steps;\n",
              "\n",
              "  const next = steps.next(outputElement.lastPromiseValue);\n",
              "  return Promise.resolve(next.value.promise).then((value) => {\n",
              "    // Cache the last promise value to make it available to the next\n",
              "    // step of the generator.\n",
              "    outputElement.lastPromiseValue = value;\n",
              "    return next.value.response;\n",
              "  });\n",
              "}\n",
              "\n",
              "/**\n",
              " * Generator function which is called between each async step of the upload\n",
              " * process.\n",
              " * @param {string} inputId Element ID of the input file picker element.\n",
              " * @param {string} outputId Element ID of the output display.\n",
              " * @return {!Iterable<!Object>} Iterable of next steps.\n",
              " */\n",
              "function* uploadFilesStep(inputId, outputId) {\n",
              "  const inputElement = document.getElementById(inputId);\n",
              "  inputElement.disabled = false;\n",
              "\n",
              "  const outputElement = document.getElementById(outputId);\n",
              "  outputElement.innerHTML = '';\n",
              "\n",
              "  const pickedPromise = new Promise((resolve) => {\n",
              "    inputElement.addEventListener('change', (e) => {\n",
              "      resolve(e.target.files);\n",
              "    });\n",
              "  });\n",
              "\n",
              "  const cancel = document.createElement('button');\n",
              "  inputElement.parentElement.appendChild(cancel);\n",
              "  cancel.textContent = 'Cancel upload';\n",
              "  const cancelPromise = new Promise((resolve) => {\n",
              "    cancel.onclick = () => {\n",
              "      resolve(null);\n",
              "    };\n",
              "  });\n",
              "\n",
              "  // Wait for the user to pick the files.\n",
              "  const files = yield {\n",
              "    promise: Promise.race([pickedPromise, cancelPromise]),\n",
              "    response: {\n",
              "      action: 'starting',\n",
              "    }\n",
              "  };\n",
              "\n",
              "  cancel.remove();\n",
              "\n",
              "  // Disable the input element since further picks are not allowed.\n",
              "  inputElement.disabled = true;\n",
              "\n",
              "  if (!files) {\n",
              "    return {\n",
              "      response: {\n",
              "        action: 'complete',\n",
              "      }\n",
              "    };\n",
              "  }\n",
              "\n",
              "  for (const file of files) {\n",
              "    const li = document.createElement('li');\n",
              "    li.append(span(file.name, {fontWeight: 'bold'}));\n",
              "    li.append(span(\n",
              "        `(${file.type || 'n/a'}) - ${file.size} bytes, ` +\n",
              "        `last modified: ${\n",
              "            file.lastModifiedDate ? file.lastModifiedDate.toLocaleDateString() :\n",
              "                                    'n/a'} - `));\n",
              "    const percent = span('0% done');\n",
              "    li.appendChild(percent);\n",
              "\n",
              "    outputElement.appendChild(li);\n",
              "\n",
              "    const fileDataPromise = new Promise((resolve) => {\n",
              "      const reader = new FileReader();\n",
              "      reader.onload = (e) => {\n",
              "        resolve(e.target.result);\n",
              "      };\n",
              "      reader.readAsArrayBuffer(file);\n",
              "    });\n",
              "    // Wait for the data to be ready.\n",
              "    let fileData = yield {\n",
              "      promise: fileDataPromise,\n",
              "      response: {\n",
              "        action: 'continue',\n",
              "      }\n",
              "    };\n",
              "\n",
              "    // Use a chunked sending to avoid message size limits. See b/62115660.\n",
              "    let position = 0;\n",
              "    do {\n",
              "      const length = Math.min(fileData.byteLength - position, MAX_PAYLOAD_SIZE);\n",
              "      const chunk = new Uint8Array(fileData, position, length);\n",
              "      position += length;\n",
              "\n",
              "      const base64 = btoa(String.fromCharCode.apply(null, chunk));\n",
              "      yield {\n",
              "        response: {\n",
              "          action: 'append',\n",
              "          file: file.name,\n",
              "          data: base64,\n",
              "        },\n",
              "      };\n",
              "\n",
              "      let percentDone = fileData.byteLength === 0 ?\n",
              "          100 :\n",
              "          Math.round((position / fileData.byteLength) * 100);\n",
              "      percent.textContent = `${percentDone}% done`;\n",
              "\n",
              "    } while (position < fileData.byteLength);\n",
              "  }\n",
              "\n",
              "  // All done.\n",
              "  yield {\n",
              "    response: {\n",
              "      action: 'complete',\n",
              "    }\n",
              "  };\n",
              "}\n",
              "\n",
              "scope.google = scope.google || {};\n",
              "scope.google.colab = scope.google.colab || {};\n",
              "scope.google.colab._files = {\n",
              "  _uploadFiles,\n",
              "  _uploadFilesContinue,\n",
              "};\n",
              "})(self);\n",
              "</script> "
            ]
          },
          "metadata": {}
        },
        {
          "output_type": "stream",
          "name": "stdout",
          "text": [
            "Saving College.csv to College.csv\n"
          ]
        }
      ]
    },
    {
      "cell_type": "code",
      "source": [
        "college_df = pd.read_csv(\"College.csv\", index_col=0)"
      ],
      "metadata": {
        "id": "n6KB0fpO-9DI"
      },
      "execution_count": 24,
      "outputs": []
    },
    {
      "cell_type": "markdown",
      "source": [
        "### Data Preprocessing"
      ],
      "metadata": {
        "id": "CqPyQaFQEQA8"
      }
    },
    {
      "cell_type": "markdown",
      "source": [
        "#### Task 1: Column Rename\n",
        "Remember that in Lab 2, we rename the columns `S.F.Ratio` to `S_F_Ratio`- removing punctuation to avoid potential problem.\n",
        "Now let's remove punctuation for all columns in dataset"
      ],
      "metadata": {
        "id": "GL4HPf7w_KoX"
      }
    },
    {
      "cell_type": "code",
      "source": [
        "college_df.columns = [re.sub(r'[^\\w\\s]', '_', col) for col in college_df.columns]\n",
        "print(college_df.columns)"
      ],
      "metadata": {
        "id": "0R9_VCSFIfmU",
        "colab": {
          "base_uri": "https://localhost:8080/"
        },
        "outputId": "4c194403-961d-42b6-81b0-b128ae8cca77"
      },
      "execution_count": 25,
      "outputs": [
        {
          "output_type": "stream",
          "name": "stdout",
          "text": [
            "Index(['Private', 'Apps', 'Accept', 'Enroll', 'Top10perc', 'Top25perc',\n",
            "       'F_Undergrad', 'P_Undergrad', 'Outstate', 'Room_Board', 'Books',\n",
            "       'Personal', 'PhD', 'Terminal', 'S_F_Ratio', 'perc_alumni', 'Expend',\n",
            "       'Grad_Rate'],\n",
            "      dtype='object')\n"
          ]
        }
      ]
    },
    {
      "cell_type": "markdown",
      "source": [
        "#### Task 2: Dummies"
      ],
      "metadata": {
        "id": "W8FrCxyQCMRZ"
      }
    },
    {
      "cell_type": "markdown",
      "source": [
        "We want to fit a simple model predicting `GradRate` based on the other features of the college. Therefore, in this section, we choose **Linear Regression**.\n",
        "\n",
        "Note that linear regression requires additional data preprocessing because it cannot directly handle categorical data.\n",
        "\n",
        "Therefore,let's do dummies for all categorical data.\n",
        "\n",
        "Hint:\n",
        "1. `get_dummies` in `pandas`. Remember to specify which column is categorical. You can also specify the prefix for all dummies. Also you need to **drop** the first dummy columns with `drop_first` parameters. Linear Regression without `drop` may have errors."
      ],
      "metadata": {
        "id": "B36g_0E9Bv-r"
      }
    },
    {
      "cell_type": "code",
      "source": [
        "college_dummies = pd.get_dummies(college_df, columns=[\"Private\"], prefix=\"Private\", drop_first=True)\n"
      ],
      "metadata": {
        "id": "MC9DEvZLIgoS"
      },
      "execution_count": 26,
      "outputs": []
    },
    {
      "cell_type": "markdown",
      "source": [
        "#### Additional Process\n",
        "Also, we want to make sure our target, GradRate, has reasonable values - aka between 0 and 100. Therefore, the following code drop rows that has invalid value."
      ],
      "metadata": {
        "id": "4USZWXZkDMbR"
      }
    },
    {
      "cell_type": "code",
      "source": [
        "bad_cols = (college_df['Grad_Rate'] > 100) | (college_df['Grad_Rate'] < 0)\n",
        "college_df = college_df[~bad_cols]"
      ],
      "metadata": {
        "id": "jP7fPgT9DBrl"
      },
      "execution_count": 27,
      "outputs": []
    },
    {
      "cell_type": "markdown",
      "source": [
        "### Data Preparation\n"
      ],
      "metadata": {
        "id": "D_x5XWFfDgUF"
      }
    },
    {
      "cell_type": "markdown",
      "source": [
        "#### Task 3: What type of task is it?\n",
        "Given that our task is to build a simple model to predict the mpg of cars (Y) from the other data available on those cars (X).\n",
        "\n",
        "1. **Is this supervised or unsupervised learning?**\n",
        "2. **Is this a classification or regression task?**"
      ],
      "metadata": {
        "id": "ZTZMhuQVE0bB"
      }
    },
    {
      "cell_type": "markdown",
      "source": [
        "#####Supervuised learning since we have data from prev car, its a classification"
      ],
      "metadata": {
        "id": "sPITXkFLgOy6"
      }
    },
    {
      "cell_type": "markdown",
      "source": [],
      "metadata": {
        "id": "eVjukKXBIkgC"
      }
    },
    {
      "cell_type": "markdown",
      "source": [
        "#### Task 4: Features and Target"
      ],
      "metadata": {
        "id": "wYiToxp2F0Cb"
      }
    },
    {
      "cell_type": "markdown",
      "source": [
        "Now we have a valid dataset to train the model. From the lecture, we know that the model requires input - *features* and output - *target*.\n",
        "\n",
        "Therefore, we need to create 2 variables.\n",
        "1. `X` contains all features (predictors)\n",
        "2. `Y` contains target"
      ],
      "metadata": {
        "id": "WTRECI1jFCEb"
      }
    },
    {
      "cell_type": "code",
      "source": [
        "Y = college_dummies[\"Grad_Rate\"]\n",
        "X = college_dummies.drop(columns=[\"Grad_Rate\"])"
      ],
      "metadata": {
        "id": "iUDcjUwoIlb-"
      },
      "execution_count": 32,
      "outputs": []
    },
    {
      "cell_type": "markdown",
      "source": [
        "#### Task 5: Train Test Split\n",
        "\n",
        "Remember about defining Training and Test sets.  The Training set is used to fit the model and then that model is applied to the Test set to see how good the predictions are.  \n",
        "- Split data into 80% training and 20% test sets\n",
        "- Fit the model to the training data to optimize parameters\n",
        "\n",
        "Now let's split the dataset into 80/20.\n",
        "\n",
        "Hint:\n",
        "1. Use the `train_test_split` function in `sklearn` package.\n",
        "2. This function will split the dataset randomly. To make your split reproducible (for either debug purpose or reproduction purpose), you can set `random_state`. Let's say `random_state=123`."
      ],
      "metadata": {
        "id": "HCKT1FLkGt9z"
      }
    },
    {
      "cell_type": "code",
      "source": [
        "X_train,X_test,y_train,y_test = train_test_split(X,Y,test_size=0.2,random_state = 123)"
      ],
      "metadata": {
        "id": "dOvfbtfUImTH"
      },
      "execution_count": 38,
      "outputs": []
    },
    {
      "cell_type": "markdown",
      "source": [
        "### Fitting a Linear Regression Model"
      ],
      "metadata": {
        "id": "g5JD5M2NJWGy"
      }
    },
    {
      "cell_type": "markdown",
      "source": [
        "#### Task 6: Fitting Model\n",
        "\n",
        "1. We need to import the predictive model class that we'll use - linear regression. The `LinearRegression` class from `sklearn.linear_model`\n",
        "2. Instantiate the model. `LinearRegression()`\n",
        "3. Fit the regression model with the TRAINING DATA. Check the `fit()` function."
      ],
      "metadata": {
        "id": "8LEy6S_QJOQ3"
      }
    },
    {
      "cell_type": "code",
      "source": [
        "model = LinearRegression()\n",
        "model.fit(X_train,y_train)"
      ],
      "metadata": {
        "id": "A5JmazfnInSF",
        "colab": {
          "base_uri": "https://localhost:8080/",
          "height": 80
        },
        "outputId": "993984e9-82a2-4955-b692-fdf0de5efbcb"
      },
      "execution_count": 40,
      "outputs": [
        {
          "output_type": "execute_result",
          "data": {
            "text/plain": [
              "LinearRegression()"
            ],
            "text/html": [
              "<style>#sk-container-id-1 {\n",
              "  /* Definition of color scheme common for light and dark mode */\n",
              "  --sklearn-color-text: #000;\n",
              "  --sklearn-color-text-muted: #666;\n",
              "  --sklearn-color-line: gray;\n",
              "  /* Definition of color scheme for unfitted estimators */\n",
              "  --sklearn-color-unfitted-level-0: #fff5e6;\n",
              "  --sklearn-color-unfitted-level-1: #f6e4d2;\n",
              "  --sklearn-color-unfitted-level-2: #ffe0b3;\n",
              "  --sklearn-color-unfitted-level-3: chocolate;\n",
              "  /* Definition of color scheme for fitted estimators */\n",
              "  --sklearn-color-fitted-level-0: #f0f8ff;\n",
              "  --sklearn-color-fitted-level-1: #d4ebff;\n",
              "  --sklearn-color-fitted-level-2: #b3dbfd;\n",
              "  --sklearn-color-fitted-level-3: cornflowerblue;\n",
              "\n",
              "  /* Specific color for light theme */\n",
              "  --sklearn-color-text-on-default-background: var(--sg-text-color, var(--theme-code-foreground, var(--jp-content-font-color1, black)));\n",
              "  --sklearn-color-background: var(--sg-background-color, var(--theme-background, var(--jp-layout-color0, white)));\n",
              "  --sklearn-color-border-box: var(--sg-text-color, var(--theme-code-foreground, var(--jp-content-font-color1, black)));\n",
              "  --sklearn-color-icon: #696969;\n",
              "\n",
              "  @media (prefers-color-scheme: dark) {\n",
              "    /* Redefinition of color scheme for dark theme */\n",
              "    --sklearn-color-text-on-default-background: var(--sg-text-color, var(--theme-code-foreground, var(--jp-content-font-color1, white)));\n",
              "    --sklearn-color-background: var(--sg-background-color, var(--theme-background, var(--jp-layout-color0, #111)));\n",
              "    --sklearn-color-border-box: var(--sg-text-color, var(--theme-code-foreground, var(--jp-content-font-color1, white)));\n",
              "    --sklearn-color-icon: #878787;\n",
              "  }\n",
              "}\n",
              "\n",
              "#sk-container-id-1 {\n",
              "  color: var(--sklearn-color-text);\n",
              "}\n",
              "\n",
              "#sk-container-id-1 pre {\n",
              "  padding: 0;\n",
              "}\n",
              "\n",
              "#sk-container-id-1 input.sk-hidden--visually {\n",
              "  border: 0;\n",
              "  clip: rect(1px 1px 1px 1px);\n",
              "  clip: rect(1px, 1px, 1px, 1px);\n",
              "  height: 1px;\n",
              "  margin: -1px;\n",
              "  overflow: hidden;\n",
              "  padding: 0;\n",
              "  position: absolute;\n",
              "  width: 1px;\n",
              "}\n",
              "\n",
              "#sk-container-id-1 div.sk-dashed-wrapped {\n",
              "  border: 1px dashed var(--sklearn-color-line);\n",
              "  margin: 0 0.4em 0.5em 0.4em;\n",
              "  box-sizing: border-box;\n",
              "  padding-bottom: 0.4em;\n",
              "  background-color: var(--sklearn-color-background);\n",
              "}\n",
              "\n",
              "#sk-container-id-1 div.sk-container {\n",
              "  /* jupyter's `normalize.less` sets `[hidden] { display: none; }`\n",
              "     but bootstrap.min.css set `[hidden] { display: none !important; }`\n",
              "     so we also need the `!important` here to be able to override the\n",
              "     default hidden behavior on the sphinx rendered scikit-learn.org.\n",
              "     See: https://github.com/scikit-learn/scikit-learn/issues/21755 */\n",
              "  display: inline-block !important;\n",
              "  position: relative;\n",
              "}\n",
              "\n",
              "#sk-container-id-1 div.sk-text-repr-fallback {\n",
              "  display: none;\n",
              "}\n",
              "\n",
              "div.sk-parallel-item,\n",
              "div.sk-serial,\n",
              "div.sk-item {\n",
              "  /* draw centered vertical line to link estimators */\n",
              "  background-image: linear-gradient(var(--sklearn-color-text-on-default-background), var(--sklearn-color-text-on-default-background));\n",
              "  background-size: 2px 100%;\n",
              "  background-repeat: no-repeat;\n",
              "  background-position: center center;\n",
              "}\n",
              "\n",
              "/* Parallel-specific style estimator block */\n",
              "\n",
              "#sk-container-id-1 div.sk-parallel-item::after {\n",
              "  content: \"\";\n",
              "  width: 100%;\n",
              "  border-bottom: 2px solid var(--sklearn-color-text-on-default-background);\n",
              "  flex-grow: 1;\n",
              "}\n",
              "\n",
              "#sk-container-id-1 div.sk-parallel {\n",
              "  display: flex;\n",
              "  align-items: stretch;\n",
              "  justify-content: center;\n",
              "  background-color: var(--sklearn-color-background);\n",
              "  position: relative;\n",
              "}\n",
              "\n",
              "#sk-container-id-1 div.sk-parallel-item {\n",
              "  display: flex;\n",
              "  flex-direction: column;\n",
              "}\n",
              "\n",
              "#sk-container-id-1 div.sk-parallel-item:first-child::after {\n",
              "  align-self: flex-end;\n",
              "  width: 50%;\n",
              "}\n",
              "\n",
              "#sk-container-id-1 div.sk-parallel-item:last-child::after {\n",
              "  align-self: flex-start;\n",
              "  width: 50%;\n",
              "}\n",
              "\n",
              "#sk-container-id-1 div.sk-parallel-item:only-child::after {\n",
              "  width: 0;\n",
              "}\n",
              "\n",
              "/* Serial-specific style estimator block */\n",
              "\n",
              "#sk-container-id-1 div.sk-serial {\n",
              "  display: flex;\n",
              "  flex-direction: column;\n",
              "  align-items: center;\n",
              "  background-color: var(--sklearn-color-background);\n",
              "  padding-right: 1em;\n",
              "  padding-left: 1em;\n",
              "}\n",
              "\n",
              "\n",
              "/* Toggleable style: style used for estimator/Pipeline/ColumnTransformer box that is\n",
              "clickable and can be expanded/collapsed.\n",
              "- Pipeline and ColumnTransformer use this feature and define the default style\n",
              "- Estimators will overwrite some part of the style using the `sk-estimator` class\n",
              "*/\n",
              "\n",
              "/* Pipeline and ColumnTransformer style (default) */\n",
              "\n",
              "#sk-container-id-1 div.sk-toggleable {\n",
              "  /* Default theme specific background. It is overwritten whether we have a\n",
              "  specific estimator or a Pipeline/ColumnTransformer */\n",
              "  background-color: var(--sklearn-color-background);\n",
              "}\n",
              "\n",
              "/* Toggleable label */\n",
              "#sk-container-id-1 label.sk-toggleable__label {\n",
              "  cursor: pointer;\n",
              "  display: flex;\n",
              "  width: 100%;\n",
              "  margin-bottom: 0;\n",
              "  padding: 0.5em;\n",
              "  box-sizing: border-box;\n",
              "  text-align: center;\n",
              "  align-items: start;\n",
              "  justify-content: space-between;\n",
              "  gap: 0.5em;\n",
              "}\n",
              "\n",
              "#sk-container-id-1 label.sk-toggleable__label .caption {\n",
              "  font-size: 0.6rem;\n",
              "  font-weight: lighter;\n",
              "  color: var(--sklearn-color-text-muted);\n",
              "}\n",
              "\n",
              "#sk-container-id-1 label.sk-toggleable__label-arrow:before {\n",
              "  /* Arrow on the left of the label */\n",
              "  content: \"▸\";\n",
              "  float: left;\n",
              "  margin-right: 0.25em;\n",
              "  color: var(--sklearn-color-icon);\n",
              "}\n",
              "\n",
              "#sk-container-id-1 label.sk-toggleable__label-arrow:hover:before {\n",
              "  color: var(--sklearn-color-text);\n",
              "}\n",
              "\n",
              "/* Toggleable content - dropdown */\n",
              "\n",
              "#sk-container-id-1 div.sk-toggleable__content {\n",
              "  max-height: 0;\n",
              "  max-width: 0;\n",
              "  overflow: hidden;\n",
              "  text-align: left;\n",
              "  /* unfitted */\n",
              "  background-color: var(--sklearn-color-unfitted-level-0);\n",
              "}\n",
              "\n",
              "#sk-container-id-1 div.sk-toggleable__content.fitted {\n",
              "  /* fitted */\n",
              "  background-color: var(--sklearn-color-fitted-level-0);\n",
              "}\n",
              "\n",
              "#sk-container-id-1 div.sk-toggleable__content pre {\n",
              "  margin: 0.2em;\n",
              "  border-radius: 0.25em;\n",
              "  color: var(--sklearn-color-text);\n",
              "  /* unfitted */\n",
              "  background-color: var(--sklearn-color-unfitted-level-0);\n",
              "}\n",
              "\n",
              "#sk-container-id-1 div.sk-toggleable__content.fitted pre {\n",
              "  /* unfitted */\n",
              "  background-color: var(--sklearn-color-fitted-level-0);\n",
              "}\n",
              "\n",
              "#sk-container-id-1 input.sk-toggleable__control:checked~div.sk-toggleable__content {\n",
              "  /* Expand drop-down */\n",
              "  max-height: 200px;\n",
              "  max-width: 100%;\n",
              "  overflow: auto;\n",
              "}\n",
              "\n",
              "#sk-container-id-1 input.sk-toggleable__control:checked~label.sk-toggleable__label-arrow:before {\n",
              "  content: \"▾\";\n",
              "}\n",
              "\n",
              "/* Pipeline/ColumnTransformer-specific style */\n",
              "\n",
              "#sk-container-id-1 div.sk-label input.sk-toggleable__control:checked~label.sk-toggleable__label {\n",
              "  color: var(--sklearn-color-text);\n",
              "  background-color: var(--sklearn-color-unfitted-level-2);\n",
              "}\n",
              "\n",
              "#sk-container-id-1 div.sk-label.fitted input.sk-toggleable__control:checked~label.sk-toggleable__label {\n",
              "  background-color: var(--sklearn-color-fitted-level-2);\n",
              "}\n",
              "\n",
              "/* Estimator-specific style */\n",
              "\n",
              "/* Colorize estimator box */\n",
              "#sk-container-id-1 div.sk-estimator input.sk-toggleable__control:checked~label.sk-toggleable__label {\n",
              "  /* unfitted */\n",
              "  background-color: var(--sklearn-color-unfitted-level-2);\n",
              "}\n",
              "\n",
              "#sk-container-id-1 div.sk-estimator.fitted input.sk-toggleable__control:checked~label.sk-toggleable__label {\n",
              "  /* fitted */\n",
              "  background-color: var(--sklearn-color-fitted-level-2);\n",
              "}\n",
              "\n",
              "#sk-container-id-1 div.sk-label label.sk-toggleable__label,\n",
              "#sk-container-id-1 div.sk-label label {\n",
              "  /* The background is the default theme color */\n",
              "  color: var(--sklearn-color-text-on-default-background);\n",
              "}\n",
              "\n",
              "/* On hover, darken the color of the background */\n",
              "#sk-container-id-1 div.sk-label:hover label.sk-toggleable__label {\n",
              "  color: var(--sklearn-color-text);\n",
              "  background-color: var(--sklearn-color-unfitted-level-2);\n",
              "}\n",
              "\n",
              "/* Label box, darken color on hover, fitted */\n",
              "#sk-container-id-1 div.sk-label.fitted:hover label.sk-toggleable__label.fitted {\n",
              "  color: var(--sklearn-color-text);\n",
              "  background-color: var(--sklearn-color-fitted-level-2);\n",
              "}\n",
              "\n",
              "/* Estimator label */\n",
              "\n",
              "#sk-container-id-1 div.sk-label label {\n",
              "  font-family: monospace;\n",
              "  font-weight: bold;\n",
              "  display: inline-block;\n",
              "  line-height: 1.2em;\n",
              "}\n",
              "\n",
              "#sk-container-id-1 div.sk-label-container {\n",
              "  text-align: center;\n",
              "}\n",
              "\n",
              "/* Estimator-specific */\n",
              "#sk-container-id-1 div.sk-estimator {\n",
              "  font-family: monospace;\n",
              "  border: 1px dotted var(--sklearn-color-border-box);\n",
              "  border-radius: 0.25em;\n",
              "  box-sizing: border-box;\n",
              "  margin-bottom: 0.5em;\n",
              "  /* unfitted */\n",
              "  background-color: var(--sklearn-color-unfitted-level-0);\n",
              "}\n",
              "\n",
              "#sk-container-id-1 div.sk-estimator.fitted {\n",
              "  /* fitted */\n",
              "  background-color: var(--sklearn-color-fitted-level-0);\n",
              "}\n",
              "\n",
              "/* on hover */\n",
              "#sk-container-id-1 div.sk-estimator:hover {\n",
              "  /* unfitted */\n",
              "  background-color: var(--sklearn-color-unfitted-level-2);\n",
              "}\n",
              "\n",
              "#sk-container-id-1 div.sk-estimator.fitted:hover {\n",
              "  /* fitted */\n",
              "  background-color: var(--sklearn-color-fitted-level-2);\n",
              "}\n",
              "\n",
              "/* Specification for estimator info (e.g. \"i\" and \"?\") */\n",
              "\n",
              "/* Common style for \"i\" and \"?\" */\n",
              "\n",
              ".sk-estimator-doc-link,\n",
              "a:link.sk-estimator-doc-link,\n",
              "a:visited.sk-estimator-doc-link {\n",
              "  float: right;\n",
              "  font-size: smaller;\n",
              "  line-height: 1em;\n",
              "  font-family: monospace;\n",
              "  background-color: var(--sklearn-color-background);\n",
              "  border-radius: 1em;\n",
              "  height: 1em;\n",
              "  width: 1em;\n",
              "  text-decoration: none !important;\n",
              "  margin-left: 0.5em;\n",
              "  text-align: center;\n",
              "  /* unfitted */\n",
              "  border: var(--sklearn-color-unfitted-level-1) 1pt solid;\n",
              "  color: var(--sklearn-color-unfitted-level-1);\n",
              "}\n",
              "\n",
              ".sk-estimator-doc-link.fitted,\n",
              "a:link.sk-estimator-doc-link.fitted,\n",
              "a:visited.sk-estimator-doc-link.fitted {\n",
              "  /* fitted */\n",
              "  border: var(--sklearn-color-fitted-level-1) 1pt solid;\n",
              "  color: var(--sklearn-color-fitted-level-1);\n",
              "}\n",
              "\n",
              "/* On hover */\n",
              "div.sk-estimator:hover .sk-estimator-doc-link:hover,\n",
              ".sk-estimator-doc-link:hover,\n",
              "div.sk-label-container:hover .sk-estimator-doc-link:hover,\n",
              ".sk-estimator-doc-link:hover {\n",
              "  /* unfitted */\n",
              "  background-color: var(--sklearn-color-unfitted-level-3);\n",
              "  color: var(--sklearn-color-background);\n",
              "  text-decoration: none;\n",
              "}\n",
              "\n",
              "div.sk-estimator.fitted:hover .sk-estimator-doc-link.fitted:hover,\n",
              ".sk-estimator-doc-link.fitted:hover,\n",
              "div.sk-label-container:hover .sk-estimator-doc-link.fitted:hover,\n",
              ".sk-estimator-doc-link.fitted:hover {\n",
              "  /* fitted */\n",
              "  background-color: var(--sklearn-color-fitted-level-3);\n",
              "  color: var(--sklearn-color-background);\n",
              "  text-decoration: none;\n",
              "}\n",
              "\n",
              "/* Span, style for the box shown on hovering the info icon */\n",
              ".sk-estimator-doc-link span {\n",
              "  display: none;\n",
              "  z-index: 9999;\n",
              "  position: relative;\n",
              "  font-weight: normal;\n",
              "  right: .2ex;\n",
              "  padding: .5ex;\n",
              "  margin: .5ex;\n",
              "  width: min-content;\n",
              "  min-width: 20ex;\n",
              "  max-width: 50ex;\n",
              "  color: var(--sklearn-color-text);\n",
              "  box-shadow: 2pt 2pt 4pt #999;\n",
              "  /* unfitted */\n",
              "  background: var(--sklearn-color-unfitted-level-0);\n",
              "  border: .5pt solid var(--sklearn-color-unfitted-level-3);\n",
              "}\n",
              "\n",
              ".sk-estimator-doc-link.fitted span {\n",
              "  /* fitted */\n",
              "  background: var(--sklearn-color-fitted-level-0);\n",
              "  border: var(--sklearn-color-fitted-level-3);\n",
              "}\n",
              "\n",
              ".sk-estimator-doc-link:hover span {\n",
              "  display: block;\n",
              "}\n",
              "\n",
              "/* \"?\"-specific style due to the `<a>` HTML tag */\n",
              "\n",
              "#sk-container-id-1 a.estimator_doc_link {\n",
              "  float: right;\n",
              "  font-size: 1rem;\n",
              "  line-height: 1em;\n",
              "  font-family: monospace;\n",
              "  background-color: var(--sklearn-color-background);\n",
              "  border-radius: 1rem;\n",
              "  height: 1rem;\n",
              "  width: 1rem;\n",
              "  text-decoration: none;\n",
              "  /* unfitted */\n",
              "  color: var(--sklearn-color-unfitted-level-1);\n",
              "  border: var(--sklearn-color-unfitted-level-1) 1pt solid;\n",
              "}\n",
              "\n",
              "#sk-container-id-1 a.estimator_doc_link.fitted {\n",
              "  /* fitted */\n",
              "  border: var(--sklearn-color-fitted-level-1) 1pt solid;\n",
              "  color: var(--sklearn-color-fitted-level-1);\n",
              "}\n",
              "\n",
              "/* On hover */\n",
              "#sk-container-id-1 a.estimator_doc_link:hover {\n",
              "  /* unfitted */\n",
              "  background-color: var(--sklearn-color-unfitted-level-3);\n",
              "  color: var(--sklearn-color-background);\n",
              "  text-decoration: none;\n",
              "}\n",
              "\n",
              "#sk-container-id-1 a.estimator_doc_link.fitted:hover {\n",
              "  /* fitted */\n",
              "  background-color: var(--sklearn-color-fitted-level-3);\n",
              "}\n",
              "</style><div id=\"sk-container-id-1\" class=\"sk-top-container\"><div class=\"sk-text-repr-fallback\"><pre>LinearRegression()</pre><b>In a Jupyter environment, please rerun this cell to show the HTML representation or trust the notebook. <br />On GitHub, the HTML representation is unable to render, please try loading this page with nbviewer.org.</b></div><div class=\"sk-container\" hidden><div class=\"sk-item\"><div class=\"sk-estimator fitted sk-toggleable\"><input class=\"sk-toggleable__control sk-hidden--visually\" id=\"sk-estimator-id-1\" type=\"checkbox\" checked><label for=\"sk-estimator-id-1\" class=\"sk-toggleable__label fitted sk-toggleable__label-arrow\"><div><div>LinearRegression</div></div><div><a class=\"sk-estimator-doc-link fitted\" rel=\"noreferrer\" target=\"_blank\" href=\"https://scikit-learn.org/1.6/modules/generated/sklearn.linear_model.LinearRegression.html\">?<span>Documentation for LinearRegression</span></a><span class=\"sk-estimator-doc-link fitted\">i<span>Fitted</span></span></div></label><div class=\"sk-toggleable__content fitted\"><pre>LinearRegression()</pre></div> </div></div></div></div>"
            ]
          },
          "metadata": {},
          "execution_count": 40
        }
      ]
    },
    {
      "cell_type": "markdown",
      "source": [
        "#### Task 7: Coefficient\n",
        "What's the coefficient of your trained model?\n",
        "\n",
        "Hint: The model's coefficient can be shown with `coef_`."
      ],
      "metadata": {
        "id": "xpjNqcVaKAIG"
      }
    },
    {
      "cell_type": "code",
      "source": [
        "print(model.coef_)"
      ],
      "metadata": {
        "id": "1Y1--pmqIoGB",
        "colab": {
          "base_uri": "https://localhost:8080/"
        },
        "outputId": "2be016ce-4709-4527-f7db-a3130abb9ee4"
      },
      "execution_count": 41,
      "outputs": [
        {
          "output_type": "stream",
          "name": "stdout",
          "text": [
            "[ 9.30964624e-04 -2.49162683e-04  4.61740596e-03  4.12379073e-02\n",
            "  1.82212650e-01 -9.52621523e-04 -1.47345142e-03  1.13341003e-03\n",
            "  1.87353081e-03 -1.31252724e-03 -1.53610308e-03  7.14079156e-02\n",
            " -1.09440427e-01  2.56207752e-01  2.47605645e-01 -4.03091295e-04\n",
            "  3.46995874e+00]\n"
          ]
        }
      ]
    },
    {
      "cell_type": "markdown",
      "source": [
        "### Evaluating the Model"
      ],
      "metadata": {
        "id": "7L17c6L6KfWA"
      }
    },
    {
      "cell_type": "markdown",
      "source": [
        "That's it!  This same structure applies to all data science models and now you can fit some of the most powerful models out there with this simple code! 💪 💻\n",
        "\n",
        "Now we get to see how well the model performs.  One way to do evaluation is to numerically compare the predictions ON THE TEST SET to the actual values in the test set.\n",
        "\n",
        "This is a regression problem so our predictions are numeric.  We can compare the prediction and the actual using mean absolute error (MAE) or root mean squared error (RMSE).\n",
        "\n",
        " [There are many other metrics available too!](https://scikit-learn.org/stable/modules/model_evaluation.html#)"
      ],
      "metadata": {
        "id": "hMivjUyuKNV7"
      }
    },
    {
      "cell_type": "markdown",
      "source": [
        "#### Task 8: Predict on Test set\n",
        "In order to evaluate the model, we first need to get the model predictions from test set.\n",
        "\n",
        "Hint: `predict()` with Test dataset."
      ],
      "metadata": {
        "id": "Vzl9xtlGPPDv"
      }
    },
    {
      "cell_type": "code",
      "source": [
        "y_pred = model.predict(X_test)\n",
        "print(y_pred)"
      ],
      "metadata": {
        "id": "jGqDYWqYIpzC",
        "colab": {
          "base_uri": "https://localhost:8080/"
        },
        "outputId": "e0cf47f0-3f5e-46f7-bbe8-d988822cb7f2"
      },
      "execution_count": 45,
      "outputs": [
        {
          "output_type": "stream",
          "name": "stdout",
          "text": [
            "[72.03152702 71.13855112 51.41778337 64.81779431 69.76522459 74.75044054\n",
            " 44.34376763 67.74044299 82.16100113 61.22453943 74.86916317 73.25277387\n",
            " 61.18618893 65.40105131 66.89752767 70.30104765 62.64740851 86.78212105\n",
            " 55.91463125 54.86132247 52.08814013 68.80482348 72.99819183 87.59101974\n",
            " 85.77924018 54.902518   54.82305276 84.84690865 83.95909355 71.80152544\n",
            " 68.77989176 51.4282069  65.58708602 77.6174921  50.23109257 52.35600545\n",
            " 53.14866429 52.41466415 62.94383686 58.62930796 79.47727292 65.52265052\n",
            " 65.20470923 67.70263636 74.60112326 71.58241415 77.6430856  76.55277416\n",
            " 76.163808   68.43261821 57.24842753 76.13374609 82.39152324 43.989328\n",
            " 54.76874025 69.41521596 88.48149482 71.46999469 63.88477633 70.26116703\n",
            " 96.01891744 70.31095344 63.32273381 63.69635076 73.45432901 58.78224132\n",
            " 59.11756212 68.69235127 83.07176684 62.87476984 62.24142284 84.50662851\n",
            " 67.02577503 70.13832768 91.75749567 83.54709137 63.95808834 55.74403627\n",
            " 60.13769465 81.37856425 77.60505847 76.03386449 67.95488917 59.111247\n",
            " 72.92155917 60.50138126 78.91430534 74.37042222 65.16413133 61.74953608\n",
            " 81.08234414 64.55265306 50.86479614 63.83437461 70.07605821 68.56590816\n",
            " 86.47883936 66.77109592 66.41278162 72.14799342 63.3442559  62.07267182\n",
            " 64.52723497 72.93571398 95.90000747 79.83225953 80.02096552 82.69084266\n",
            " 71.84402476 69.50971421 56.77841748 76.75412559 47.95974594 82.52139958\n",
            " 59.15570959 62.24255732 65.18918113 78.88288895 76.61759188 67.21435115\n",
            " 65.70655812 82.26739586 58.2335301  59.47188451 51.4608899  45.72350687\n",
            " 76.33191364 62.61105555 57.09208013 70.3551591  52.1855029  65.28849327\n",
            " 56.96048132 52.68721851 62.14200346 61.57604088 61.04016679 57.52449298\n",
            " 75.57125184 33.9068656  81.67621554 59.33887479 56.7859436  71.08901429\n",
            " 67.44429982 65.1146652  60.4262827  56.91228517 58.73215099 87.42047055\n",
            " 59.76639149 84.98808717 64.68317044 88.58145344 69.89183569 51.68001989]\n"
          ]
        }
      ]
    },
    {
      "cell_type": "markdown",
      "source": [
        "#### Task 9: Calculate RMSE\n",
        "Calculate RMSE\n",
        "\n",
        "Hint: the RMSE stands for root mean square error has the following equation\n",
        "$$RMSE = \\sqrt{\\sum_{i=0}^N(\\hat{Y} - Y)^2}$$\n",
        "where $\\hat{Y}$ is the predicted value, Y is the label. $N$ is the number of samples in test dataset."
      ],
      "metadata": {
        "id": "JsHHqhhIQUQ5"
      }
    },
    {
      "cell_type": "code",
      "source": [
        "i = 0\n",
        "sum = 0\n",
        "while (i < college_df.shape[0]):\n",
        "  sum += (y_pred - y_test)**2\n",
        "  i+=1\n",
        "sum = sum**.5\n",
        "print(sum)"
      ],
      "metadata": {
        "id": "40cLf9vmIqrD",
        "colab": {
          "base_uri": "https://localhost:8080/"
        },
        "outputId": "93a43683-00a6-4154-a336-359d7fa69677"
      },
      "execution_count": 54,
      "outputs": [
        {
          "output_type": "stream",
          "name": "stdout",
          "text": [
            "Randolph-Macon Woman's College                    112.305347\n",
            "Guilford College                                  171.000247\n",
            "University of Wisconsin-Stout                     378.356774\n",
            "Saint Xavier University                           273.492102\n",
            "Saint John's University                             6.540086\n",
            "                                                    ...     \n",
            "Brandeis University                                27.524924\n",
            "University of San Francisco                        74.744479\n",
            "Trinity College CT                                 67.372911\n",
            "Texas Southern University                        1668.393484\n",
            "Clinch Valley Coll. of  the Univ. of Virginia     158.227045\n",
            "Name: Grad_Rate, Length: 156, dtype: float64\n"
          ]
        }
      ]
    },
    {
      "cell_type": "markdown",
      "source": [
        "#### Task 10: Calculate RMSE via library packages\n",
        "\n",
        "We can instead use `sklearn.metrics` to calculate evaluation metrics directly.\n",
        "\n",
        "Hint: `root_mean_squared_error()` function in `sklearn.metrics`. You can also play with `mean_absolute_error`."
      ],
      "metadata": {
        "id": "4kOFJY85RBLH"
      }
    },
    {
      "cell_type": "code",
      "source": [
        "rmse = mean_squared_error(y_pred,y_test)\n",
        "print(rmse)"
      ],
      "metadata": {
        "id": "jDQ99mbrIr-Z",
        "colab": {
          "base_uri": "https://localhost:8080/"
        },
        "outputId": "1fcecd9e-49d4-4a0f-a66a-a38ff6d20d5e"
      },
      "execution_count": 57,
      "outputs": [
        {
          "output_type": "stream",
          "name": "stdout",
          "text": [
            "166.6381657023247\n"
          ]
        }
      ]
    },
    {
      "cell_type": "markdown",
      "source": [
        "#### Task 11: Calculate RMSE for Training set\n",
        "\n",
        "What if you were to calculate the RMSE on the TRAINING set?  Do you think it would be higher or lower?"
      ],
      "metadata": {
        "id": "0tBOiVa_RWUU"
      }
    },
    {
      "cell_type": "markdown",
      "source": [
        "######it would be lower since there was direct fitting to training data"
      ],
      "metadata": {
        "id": "FpoXYBxQndYp"
      }
    },
    {
      "cell_type": "markdown",
      "source": [
        "#### Task 12: Visualizing Performance\n",
        "\n",
        "Now plot the predicted value vs, the true value through scatter plot. Remember to draw a $y=x$ line as perfect line. If you perfectly predict the result, you will end up with such perfect line.\n",
        "\n",
        "Hint:\n",
        "1. `scatter` in `matplotlib`.\n",
        "2. To draw the $y=x$ line, use `plot` and the mark can be `r--`, which stands for red dash."
      ],
      "metadata": {
        "id": "q4qp7xr5SU_7"
      }
    },
    {
      "cell_type": "code",
      "source": [
        "\n",
        "# Scatter plot of predicted vs. actual values\n",
        "plt.scatter(y_test, y_pred, alpha=0.6)\n",
        "\n",
        "# Draw the perfect prediction line y = x\n",
        "plt.plot([y_test.min(), y_test.max()], [y_test.min(), y_test.max()], 'r--')\n",
        "\n",
        "# Label the axes and add a title\n",
        "plt.xlabel(\"Actual Grad.Rate\")\n",
        "plt.ylabel(\"Predicted Grad.Rate\")\n",
        "plt.title(\"Predicted vs Actual Grad.Rate\")\n",
        "\n",
        "# Show the plot\n",
        "plt.show()"
      ],
      "metadata": {
        "id": "D2yKn1hiItlA",
        "colab": {
          "base_uri": "https://localhost:8080/",
          "height": 472
        },
        "outputId": "ff5cac49-c02a-4299-f34a-b41f8c7abb5b"
      },
      "execution_count": 60,
      "outputs": [
        {
          "output_type": "display_data",
          "data": {
            "text/plain": [
              "<Figure size 640x480 with 1 Axes>"
            ],
            "image/png": "[encoded data removed]"
          },
          "metadata": {}
        }
      ]
    },
    {
      "cell_type": "markdown",
      "source": [
        "#### Task 13: Interpret RMSE\n",
        "Now can you interpret your RMSE for testing data?"
      ],
      "metadata": {
        "id": "p3461dAhTY0F"
      }
    },
    {
      "cell_type": "code",
      "source": [
        "#average error between predicted and real values"
      ],
      "metadata": {
        "id": "t7HjLw__IueY"
      },
      "execution_count": null,
      "outputs": []
    },
    {
      "cell_type": "markdown",
      "source": [
        "## Decision Tree"
      ],
      "metadata": {
        "id": "uKq7aCVaU_cH"
      }
    },
    {
      "cell_type": "markdown",
      "source": [
        "In this section, we will learn how to implement decision tree."
      ],
      "metadata": {
        "id": "mziCoj6DW9UN"
      }
    },
    {
      "cell_type": "markdown",
      "source": [
        "Let's build the decision tree with another dataset called Tayko. Download from this [link](https://drive.google.com/file/d/1IaxBOvXbY2AUeG0DSasdnpfXe4GLI6JY/view?usp=sharing)\n",
        "\n",
        "Task is to predict whether the person made a Purchase  (0,1) given 24 attributes including the source catalog the customer received (encoded in 15 \"source\" variables) and other customer attributes.  "
      ],
      "metadata": {
        "id": "C-ZFICUCXCXv"
      }
    },
    {
      "cell_type": "code",
      "source": [
        "from google.colab import files\n",
        "uploaded = files.upload()"
      ],
      "metadata": {
        "colab": {
          "base_uri": "https://localhost:8080/",
          "height": 73
        },
        "id": "qZ7ZNTK9jTUR",
        "outputId": "905b6ebb-2ead-4db3-8687-d55447b40696"
      },
      "execution_count": 61,
      "outputs": [
        {
          "output_type": "display_data",
          "data": {
            "text/plain": [
              "<IPython.core.display.HTML object>"
            ],
            "text/html": [
              "\n",
              "     <input type=\"file\" id=\"files-ef3aa48a-2cd8-4b9b-aae3-251d6a8e8537\" name=\"files[]\" multiple disabled\n",
              "        style=\"border:none\" />\n",
              "     <output id=\"result-ef3aa48a-2cd8-4b9b-aae3-251d6a8e8537\">\n",
              "      Upload widget is only available when the cell has been executed in the\n",
              "      current browser session. Please rerun this cell to enable.\n",
              "      </output>\n",
              "      <script>// Copyright 2017 Google LLC\n",
              "//\n",
              "// Licensed under the Apache License, Version 2.0 (the \"License\");\n",
              "// you may not use this file except in compliance with the License.\n",
              "// You may obtain a copy of the License at\n",
              "//\n",
              "//      http://www.apache.org/licenses/LICENSE-2.0\n",
              "//\n",
              "// Unless required by applicable law or agreed to in writing, software\n",
              "// distributed under the License is distributed on an \"AS IS\" BASIS,\n",
              "// WITHOUT WARRANTIES OR CONDITIONS OF ANY KIND, either express or implied.\n",
              "// See the License for the specific language governing permissions and\n",
              "// limitations under the License.\n",
              "\n",
              "/**\n",
              " * @fileoverview Helpers for google.colab Python module.\n",
              " */\n",
              "(function(scope) {\n",
              "function span(text, styleAttributes = {}) {\n",
              "  const element = document.createElement('span');\n",
              "  element.textContent = text;\n",
              "  for (const key of Object.keys(styleAttributes)) {\n",
              "    element.style[key] = styleAttributes[key];\n",
              "  }\n",
              "  return element;\n",
              "}\n",
              "\n",
              "// Max number of bytes which will be uploaded at a time.\n",
              "const MAX_PAYLOAD_SIZE = 100 * 1024;\n",
              "\n",
              "function _uploadFiles(inputId, outputId) {\n",
              "  const steps = uploadFilesStep(inputId, outputId);\n",
              "  const outputElement = document.getElementById(outputId);\n",
              "  // Cache steps on the outputElement to make it available for the next call\n",
              "  // to uploadFilesContinue from Python.\n",
              "  outputElement.steps = steps;\n",
              "\n",
              "  return _uploadFilesContinue(outputId);\n",
              "}\n",
              "\n",
              "// This is roughly an async generator (not supported in the browser yet),\n",
              "// where there are multiple asynchronous steps and the Python side is going\n",
              "// to poll for completion of each step.\n",
              "// This uses a Promise to block the python side on completion of each step,\n",
              "// then passes the result of the previous step as the input to the next step.\n",
              "function _uploadFilesContinue(outputId) {\n",
              "  const outputElement = document.getElementById(outputId);\n",
              "  const steps = outputElement.steps;\n",
              "\n",
              "  const next = steps.next(outputElement.lastPromiseValue);\n",
              "  return Promise.resolve(next.value.promise).then((value) => {\n",
              "    // Cache the last promise value to make it available to the next\n",
              "    // step of the generator.\n",
              "    outputElement.lastPromiseValue = value;\n",
              "    return next.value.response;\n",
              "  });\n",
              "}\n",
              "\n",
              "/**\n",
              " * Generator function which is called between each async step of the upload\n",
              " * process.\n",
              " * @param {string} inputId Element ID of the input file picker element.\n",
              " * @param {string} outputId Element ID of the output display.\n",
              " * @return {!Iterable<!Object>} Iterable of next steps.\n",
              " */\n",
              "function* uploadFilesStep(inputId, outputId) {\n",
              "  const inputElement = document.getElementById(inputId);\n",
              "  inputElement.disabled = false;\n",
              "\n",
              "  const outputElement = document.getElementById(outputId);\n",
              "  outputElement.innerHTML = '';\n",
              "\n",
              "  const pickedPromise = new Promise((resolve) => {\n",
              "    inputElement.addEventListener('change', (e) => {\n",
              "      resolve(e.target.files);\n",
              "    });\n",
              "  });\n",
              "\n",
              "  const cancel = document.createElement('button');\n",
              "  inputElement.parentElement.appendChild(cancel);\n",
              "  cancel.textContent = 'Cancel upload';\n",
              "  const cancelPromise = new Promise((resolve) => {\n",
              "    cancel.onclick = () => {\n",
              "      resolve(null);\n",
              "    };\n",
              "  });\n",
              "\n",
              "  // Wait for the user to pick the files.\n",
              "  const files = yield {\n",
              "    promise: Promise.race([pickedPromise, cancelPromise]),\n",
              "    response: {\n",
              "      action: 'starting',\n",
              "    }\n",
              "  };\n",
              "\n",
              "  cancel.remove();\n",
              "\n",
              "  // Disable the input element since further picks are not allowed.\n",
              "  inputElement.disabled = true;\n",
              "\n",
              "  if (!files) {\n",
              "    return {\n",
              "      response: {\n",
              "        action: 'complete',\n",
              "      }\n",
              "    };\n",
              "  }\n",
              "\n",
              "  for (const file of files) {\n",
              "    const li = document.createElement('li');\n",
              "    li.append(span(file.name, {fontWeight: 'bold'}));\n",
              "    li.append(span(\n",
              "        `(${file.type || 'n/a'}) - ${file.size} bytes, ` +\n",
              "        `last modified: ${\n",
              "            file.lastModifiedDate ? file.lastModifiedDate.toLocaleDateString() :\n",
              "                                    'n/a'} - `));\n",
              "    const percent = span('0% done');\n",
              "    li.appendChild(percent);\n",
              "\n",
              "    outputElement.appendChild(li);\n",
              "\n",
              "    const fileDataPromise = new Promise((resolve) => {\n",
              "      const reader = new FileReader();\n",
              "      reader.onload = (e) => {\n",
              "        resolve(e.target.result);\n",
              "      };\n",
              "      reader.readAsArrayBuffer(file);\n",
              "    });\n",
              "    // Wait for the data to be ready.\n",
              "    let fileData = yield {\n",
              "      promise: fileDataPromise,\n",
              "      response: {\n",
              "        action: 'continue',\n",
              "      }\n",
              "    };\n",
              "\n",
              "    // Use a chunked sending to avoid message size limits. See b/62115660.\n",
              "    let position = 0;\n",
              "    do {\n",
              "      const length = Math.min(fileData.byteLength - position, MAX_PAYLOAD_SIZE);\n",
              "      const chunk = new Uint8Array(fileData, position, length);\n",
              "      position += length;\n",
              "\n",
              "      const base64 = btoa(String.fromCharCode.apply(null, chunk));\n",
              "      yield {\n",
              "        response: {\n",
              "          action: 'append',\n",
              "          file: file.name,\n",
              "          data: base64,\n",
              "        },\n",
              "      };\n",
              "\n",
              "      let percentDone = fileData.byteLength === 0 ?\n",
              "          100 :\n",
              "          Math.round((position / fileData.byteLength) * 100);\n",
              "      percent.textContent = `${percentDone}% done`;\n",
              "\n",
              "    } while (position < fileData.byteLength);\n",
              "  }\n",
              "\n",
              "  // All done.\n",
              "  yield {\n",
              "    response: {\n",
              "      action: 'complete',\n",
              "    }\n",
              "  };\n",
              "}\n",
              "\n",
              "scope.google = scope.google || {};\n",
              "scope.google.colab = scope.google.colab || {};\n",
              "scope.google.colab._files = {\n",
              "  _uploadFiles,\n",
              "  _uploadFilesContinue,\n",
              "};\n",
              "})(self);\n",
              "</script> "
            ]
          },
          "metadata": {}
        },
        {
          "output_type": "stream",
          "name": "stdout",
          "text": [
            "Saving Tayko.csv to Tayko.csv\n"
          ]
        }
      ]
    },
    {
      "cell_type": "code",
      "source": [
        "df=pd.read_csv(\"Tayko.csv\")"
      ],
      "metadata": {
        "id": "6hpPP8N6qo1P"
      },
      "execution_count": 62,
      "outputs": []
    },
    {
      "cell_type": "markdown",
      "source": [
        "### Data Preparation"
      ],
      "metadata": {
        "id": "MB8k30Leqrw6"
      }
    },
    {
      "cell_type": "markdown",
      "source": [
        "#### Task 14: Data Preparation\n",
        "Like we have done in previous section. Let's prepare the data.\n",
        "1. Drop `sequence_number` `Spending` column,\n",
        "2. Create X and Y, where Y is `Purchase`\n",
        "3. Do a train test split 80/20."
      ],
      "metadata": {
        "id": "I2ZkinXziAsO"
      }
    },
    {
      "cell_type": "code",
      "source": [
        "df = df.drop(['sequence_number', 'Spending'], axis=1)\n",
        "\n",
        "# Define X (features) and Y (target)\n",
        "X = df.drop('Purchase', axis=1)\n",
        "Y = df['Purchase']\n",
        "\n",
        "# Split data into training and testing sets (80% train, 20% test)\n",
        "X_train, X_test, Y_train, Y_test = train_test_split(X, Y, test_size=0.2, random_state=42)"
      ],
      "metadata": {
        "id": "K4mY41q8IwbR"
      },
      "execution_count": 63,
      "outputs": []
    },
    {
      "cell_type": "markdown",
      "source": [
        "### Fitting the model"
      ],
      "metadata": {
        "id": "8v10EGwW1_FA"
      }
    },
    {
      "cell_type": "markdown",
      "source": [
        "#### Task 15: Train the Tree Model\n",
        "Now build your tree.\n",
        "Hint:\n",
        "1. We need to import the predictive model class `DecisionTreeClassifier` from `sklearn.tree`\n",
        "2. Instantiate the model `DecisionTreeClassifier()`. Fit a small try by setting `max_depth=3` and `criterion=entropy`\n",
        "3. Fit the decision tree model with the TRAINING DATA. Check the `fit()` function."
      ],
      "metadata": {
        "id": "OTJylhAm3n-E"
      }
    },
    {
      "cell_type": "code",
      "source": [
        "clf = DecisionTreeClassifier(max_depth=3, criterion='entropy', random_state=42)\n",
        "\n",
        "# Fit the model using training data\n",
        "clf.fit(X_train, Y_train)\n"
      ],
      "metadata": {
        "id": "r3nypDbxIxx3",
        "colab": {
          "base_uri": "https://localhost:8080/",
          "height": 80
        },
        "outputId": "a0765935-eeac-46e9-ff9c-a08e3748e7a6"
      },
      "execution_count": 66,
      "outputs": [
        {
          "output_type": "execute_result",
          "data": {
            "text/plain": [
              "DecisionTreeClassifier(criterion='entropy', max_depth=3, random_state=42)"
            ],
            "text/html": [
              "<style>#sk-container-id-2 {\n",
              "  /* Definition of color scheme common for light and dark mode */\n",
              "  --sklearn-color-text: #000;\n",
              "  --sklearn-color-text-muted: #666;\n",
              "  --sklearn-color-line: gray;\n",
              "  /* Definition of color scheme for unfitted estimators */\n",
              "  --sklearn-color-unfitted-level-0: #fff5e6;\n",
              "  --sklearn-color-unfitted-level-1: #f6e4d2;\n",
              "  --sklearn-color-unfitted-level-2: #ffe0b3;\n",
              "  --sklearn-color-unfitted-level-3: chocolate;\n",
              "  /* Definition of color scheme for fitted estimators */\n",
              "  --sklearn-color-fitted-level-0: #f0f8ff;\n",
              "  --sklearn-color-fitted-level-1: #d4ebff;\n",
              "  --sklearn-color-fitted-level-2: #b3dbfd;\n",
              "  --sklearn-color-fitted-level-3: cornflowerblue;\n",
              "\n",
              "  /* Specific color for light theme */\n",
              "  --sklearn-color-text-on-default-background: var(--sg-text-color, var(--theme-code-foreground, var(--jp-content-font-color1, black)));\n",
              "  --sklearn-color-background: var(--sg-background-color, var(--theme-background, var(--jp-layout-color0, white)));\n",
              "  --sklearn-color-border-box: var(--sg-text-color, var(--theme-code-foreground, var(--jp-content-font-color1, black)));\n",
              "  --sklearn-color-icon: #696969;\n",
              "\n",
              "  @media (prefers-color-scheme: dark) {\n",
              "    /* Redefinition of color scheme for dark theme */\n",
              "    --sklearn-color-text-on-default-background: var(--sg-text-color, var(--theme-code-foreground, var(--jp-content-font-color1, white)));\n",
              "    --sklearn-color-background: var(--sg-background-color, var(--theme-background, var(--jp-layout-color0, #111)));\n",
              "    --sklearn-color-border-box: var(--sg-text-color, var(--theme-code-foreground, var(--jp-content-font-color1, white)));\n",
              "    --sklearn-color-icon: #878787;\n",
              "  }\n",
              "}\n",
              "\n",
              "#sk-container-id-2 {\n",
              "  color: var(--sklearn-color-text);\n",
              "}\n",
              "\n",
              "#sk-container-id-2 pre {\n",
              "  padding: 0;\n",
              "}\n",
              "\n",
              "#sk-container-id-2 input.sk-hidden--visually {\n",
              "  border: 0;\n",
              "  clip: rect(1px 1px 1px 1px);\n",
              "  clip: rect(1px, 1px, 1px, 1px);\n",
              "  height: 1px;\n",
              "  margin: -1px;\n",
              "  overflow: hidden;\n",
              "  padding: 0;\n",
              "  position: absolute;\n",
              "  width: 1px;\n",
              "}\n",
              "\n",
              "#sk-container-id-2 div.sk-dashed-wrapped {\n",
              "  border: 1px dashed var(--sklearn-color-line);\n",
              "  margin: 0 0.4em 0.5em 0.4em;\n",
              "  box-sizing: border-box;\n",
              "  padding-bottom: 0.4em;\n",
              "  background-color: var(--sklearn-color-background);\n",
              "}\n",
              "\n",
              "#sk-container-id-2 div.sk-container {\n",
              "  /* jupyter's `normalize.less` sets `[hidden] { display: none; }`\n",
              "     but bootstrap.min.css set `[hidden] { display: none !important; }`\n",
              "     so we also need the `!important` here to be able to override the\n",
              "     default hidden behavior on the sphinx rendered scikit-learn.org.\n",
              "     See: https://github.com/scikit-learn/scikit-learn/issues/21755 */\n",
              "  display: inline-block !important;\n",
              "  position: relative;\n",
              "}\n",
              "\n",
              "#sk-container-id-2 div.sk-text-repr-fallback {\n",
              "  display: none;\n",
              "}\n",
              "\n",
              "div.sk-parallel-item,\n",
              "div.sk-serial,\n",
              "div.sk-item {\n",
              "  /* draw centered vertical line to link estimators */\n",
              "  background-image: linear-gradient(var(--sklearn-color-text-on-default-background), var(--sklearn-color-text-on-default-background));\n",
              "  background-size: 2px 100%;\n",
              "  background-repeat: no-repeat;\n",
              "  background-position: center center;\n",
              "}\n",
              "\n",
              "/* Parallel-specific style estimator block */\n",
              "\n",
              "#sk-container-id-2 div.sk-parallel-item::after {\n",
              "  content: \"\";\n",
              "  width: 100%;\n",
              "  border-bottom: 2px solid var(--sklearn-color-text-on-default-background);\n",
              "  flex-grow: 1;\n",
              "}\n",
              "\n",
              "#sk-container-id-2 div.sk-parallel {\n",
              "  display: flex;\n",
              "  align-items: stretch;\n",
              "  justify-content: center;\n",
              "  background-color: var(--sklearn-color-background);\n",
              "  position: relative;\n",
              "}\n",
              "\n",
              "#sk-container-id-2 div.sk-parallel-item {\n",
              "  display: flex;\n",
              "  flex-direction: column;\n",
              "}\n",
              "\n",
              "#sk-container-id-2 div.sk-parallel-item:first-child::after {\n",
              "  align-self: flex-end;\n",
              "  width: 50%;\n",
              "}\n",
              "\n",
              "#sk-container-id-2 div.sk-parallel-item:last-child::after {\n",
              "  align-self: flex-start;\n",
              "  width: 50%;\n",
              "}\n",
              "\n",
              "#sk-container-id-2 div.sk-parallel-item:only-child::after {\n",
              "  width: 0;\n",
              "}\n",
              "\n",
              "/* Serial-specific style estimator block */\n",
              "\n",
              "#sk-container-id-2 div.sk-serial {\n",
              "  display: flex;\n",
              "  flex-direction: column;\n",
              "  align-items: center;\n",
              "  background-color: var(--sklearn-color-background);\n",
              "  padding-right: 1em;\n",
              "  padding-left: 1em;\n",
              "}\n",
              "\n",
              "\n",
              "/* Toggleable style: style used for estimator/Pipeline/ColumnTransformer box that is\n",
              "clickable and can be expanded/collapsed.\n",
              "- Pipeline and ColumnTransformer use this feature and define the default style\n",
              "- Estimators will overwrite some part of the style using the `sk-estimator` class\n",
              "*/\n",
              "\n",
              "/* Pipeline and ColumnTransformer style (default) */\n",
              "\n",
              "#sk-container-id-2 div.sk-toggleable {\n",
              "  /* Default theme specific background. It is overwritten whether we have a\n",
              "  specific estimator or a Pipeline/ColumnTransformer */\n",
              "  background-color: var(--sklearn-color-background);\n",
              "}\n",
              "\n",
              "/* Toggleable label */\n",
              "#sk-container-id-2 label.sk-toggleable__label {\n",
              "  cursor: pointer;\n",
              "  display: flex;\n",
              "  width: 100%;\n",
              "  margin-bottom: 0;\n",
              "  padding: 0.5em;\n",
              "  box-sizing: border-box;\n",
              "  text-align: center;\n",
              "  align-items: start;\n",
              "  justify-content: space-between;\n",
              "  gap: 0.5em;\n",
              "}\n",
              "\n",
              "#sk-container-id-2 label.sk-toggleable__label .caption {\n",
              "  font-size: 0.6rem;\n",
              "  font-weight: lighter;\n",
              "  color: var(--sklearn-color-text-muted);\n",
              "}\n",
              "\n",
              "#sk-container-id-2 label.sk-toggleable__label-arrow:before {\n",
              "  /* Arrow on the left of the label */\n",
              "  content: \"▸\";\n",
              "  float: left;\n",
              "  margin-right: 0.25em;\n",
              "  color: var(--sklearn-color-icon);\n",
              "}\n",
              "\n",
              "#sk-container-id-2 label.sk-toggleable__label-arrow:hover:before {\n",
              "  color: var(--sklearn-color-text);\n",
              "}\n",
              "\n",
              "/* Toggleable content - dropdown */\n",
              "\n",
              "#sk-container-id-2 div.sk-toggleable__content {\n",
              "  max-height: 0;\n",
              "  max-width: 0;\n",
              "  overflow: hidden;\n",
              "  text-align: left;\n",
              "  /* unfitted */\n",
              "  background-color: var(--sklearn-color-unfitted-level-0);\n",
              "}\n",
              "\n",
              "#sk-container-id-2 div.sk-toggleable__content.fitted {\n",
              "  /* fitted */\n",
              "  background-color: var(--sklearn-color-fitted-level-0);\n",
              "}\n",
              "\n",
              "#sk-container-id-2 div.sk-toggleable__content pre {\n",
              "  margin: 0.2em;\n",
              "  border-radius: 0.25em;\n",
              "  color: var(--sklearn-color-text);\n",
              "  /* unfitted */\n",
              "  background-color: var(--sklearn-color-unfitted-level-0);\n",
              "}\n",
              "\n",
              "#sk-container-id-2 div.sk-toggleable__content.fitted pre {\n",
              "  /* unfitted */\n",
              "  background-color: var(--sklearn-color-fitted-level-0);\n",
              "}\n",
              "\n",
              "#sk-container-id-2 input.sk-toggleable__control:checked~div.sk-toggleable__content {\n",
              "  /* Expand drop-down */\n",
              "  max-height: 200px;\n",
              "  max-width: 100%;\n",
              "  overflow: auto;\n",
              "}\n",
              "\n",
              "#sk-container-id-2 input.sk-toggleable__control:checked~label.sk-toggleable__label-arrow:before {\n",
              "  content: \"▾\";\n",
              "}\n",
              "\n",
              "/* Pipeline/ColumnTransformer-specific style */\n",
              "\n",
              "#sk-container-id-2 div.sk-label input.sk-toggleable__control:checked~label.sk-toggleable__label {\n",
              "  color: var(--sklearn-color-text);\n",
              "  background-color: var(--sklearn-color-unfitted-level-2);\n",
              "}\n",
              "\n",
              "#sk-container-id-2 div.sk-label.fitted input.sk-toggleable__control:checked~label.sk-toggleable__label {\n",
              "  background-color: var(--sklearn-color-fitted-level-2);\n",
              "}\n",
              "\n",
              "/* Estimator-specific style */\n",
              "\n",
              "/* Colorize estimator box */\n",
              "#sk-container-id-2 div.sk-estimator input.sk-toggleable__control:checked~label.sk-toggleable__label {\n",
              "  /* unfitted */\n",
              "  background-color: var(--sklearn-color-unfitted-level-2);\n",
              "}\n",
              "\n",
              "#sk-container-id-2 div.sk-estimator.fitted input.sk-toggleable__control:checked~label.sk-toggleable__label {\n",
              "  /* fitted */\n",
              "  background-color: var(--sklearn-color-fitted-level-2);\n",
              "}\n",
              "\n",
              "#sk-container-id-2 div.sk-label label.sk-toggleable__label,\n",
              "#sk-container-id-2 div.sk-label label {\n",
              "  /* The background is the default theme color */\n",
              "  color: var(--sklearn-color-text-on-default-background);\n",
              "}\n",
              "\n",
              "/* On hover, darken the color of the background */\n",
              "#sk-container-id-2 div.sk-label:hover label.sk-toggleable__label {\n",
              "  color: var(--sklearn-color-text);\n",
              "  background-color: var(--sklearn-color-unfitted-level-2);\n",
              "}\n",
              "\n",
              "/* Label box, darken color on hover, fitted */\n",
              "#sk-container-id-2 div.sk-label.fitted:hover label.sk-toggleable__label.fitted {\n",
              "  color: var(--sklearn-color-text);\n",
              "  background-color: var(--sklearn-color-fitted-level-2);\n",
              "}\n",
              "\n",
              "/* Estimator label */\n",
              "\n",
              "#sk-container-id-2 div.sk-label label {\n",
              "  font-family: monospace;\n",
              "  font-weight: bold;\n",
              "  display: inline-block;\n",
              "  line-height: 1.2em;\n",
              "}\n",
              "\n",
              "#sk-container-id-2 div.sk-label-container {\n",
              "  text-align: center;\n",
              "}\n",
              "\n",
              "/* Estimator-specific */\n",
              "#sk-container-id-2 div.sk-estimator {\n",
              "  font-family: monospace;\n",
              "  border: 1px dotted var(--sklearn-color-border-box);\n",
              "  border-radius: 0.25em;\n",
              "  box-sizing: border-box;\n",
              "  margin-bottom: 0.5em;\n",
              "  /* unfitted */\n",
              "  background-color: var(--sklearn-color-unfitted-level-0);\n",
              "}\n",
              "\n",
              "#sk-container-id-2 div.sk-estimator.fitted {\n",
              "  /* fitted */\n",
              "  background-color: var(--sklearn-color-fitted-level-0);\n",
              "}\n",
              "\n",
              "/* on hover */\n",
              "#sk-container-id-2 div.sk-estimator:hover {\n",
              "  /* unfitted */\n",
              "  background-color: var(--sklearn-color-unfitted-level-2);\n",
              "}\n",
              "\n",
              "#sk-container-id-2 div.sk-estimator.fitted:hover {\n",
              "  /* fitted */\n",
              "  background-color: var(--sklearn-color-fitted-level-2);\n",
              "}\n",
              "\n",
              "/* Specification for estimator info (e.g. \"i\" and \"?\") */\n",
              "\n",
              "/* Common style for \"i\" and \"?\" */\n",
              "\n",
              ".sk-estimator-doc-link,\n",
              "a:link.sk-estimator-doc-link,\n",
              "a:visited.sk-estimator-doc-link {\n",
              "  float: right;\n",
              "  font-size: smaller;\n",
              "  line-height: 1em;\n",
              "  font-family: monospace;\n",
              "  background-color: var(--sklearn-color-background);\n",
              "  border-radius: 1em;\n",
              "  height: 1em;\n",
              "  width: 1em;\n",
              "  text-decoration: none !important;\n",
              "  margin-left: 0.5em;\n",
              "  text-align: center;\n",
              "  /* unfitted */\n",
              "  border: var(--sklearn-color-unfitted-level-1) 1pt solid;\n",
              "  color: var(--sklearn-color-unfitted-level-1);\n",
              "}\n",
              "\n",
              ".sk-estimator-doc-link.fitted,\n",
              "a:link.sk-estimator-doc-link.fitted,\n",
              "a:visited.sk-estimator-doc-link.fitted {\n",
              "  /* fitted */\n",
              "  border: var(--sklearn-color-fitted-level-1) 1pt solid;\n",
              "  color: var(--sklearn-color-fitted-level-1);\n",
              "}\n",
              "\n",
              "/* On hover */\n",
              "div.sk-estimator:hover .sk-estimator-doc-link:hover,\n",
              ".sk-estimator-doc-link:hover,\n",
              "div.sk-label-container:hover .sk-estimator-doc-link:hover,\n",
              ".sk-estimator-doc-link:hover {\n",
              "  /* unfitted */\n",
              "  background-color: var(--sklearn-color-unfitted-level-3);\n",
              "  color: var(--sklearn-color-background);\n",
              "  text-decoration: none;\n",
              "}\n",
              "\n",
              "div.sk-estimator.fitted:hover .sk-estimator-doc-link.fitted:hover,\n",
              ".sk-estimator-doc-link.fitted:hover,\n",
              "div.sk-label-container:hover .sk-estimator-doc-link.fitted:hover,\n",
              ".sk-estimator-doc-link.fitted:hover {\n",
              "  /* fitted */\n",
              "  background-color: var(--sklearn-color-fitted-level-3);\n",
              "  color: var(--sklearn-color-background);\n",
              "  text-decoration: none;\n",
              "}\n",
              "\n",
              "/* Span, style for the box shown on hovering the info icon */\n",
              ".sk-estimator-doc-link span {\n",
              "  display: none;\n",
              "  z-index: 9999;\n",
              "  position: relative;\n",
              "  font-weight: normal;\n",
              "  right: .2ex;\n",
              "  padding: .5ex;\n",
              "  margin: .5ex;\n",
              "  width: min-content;\n",
              "  min-width: 20ex;\n",
              "  max-width: 50ex;\n",
              "  color: var(--sklearn-color-text);\n",
              "  box-shadow: 2pt 2pt 4pt #999;\n",
              "  /* unfitted */\n",
              "  background: var(--sklearn-color-unfitted-level-0);\n",
              "  border: .5pt solid var(--sklearn-color-unfitted-level-3);\n",
              "}\n",
              "\n",
              ".sk-estimator-doc-link.fitted span {\n",
              "  /* fitted */\n",
              "  background: var(--sklearn-color-fitted-level-0);\n",
              "  border: var(--sklearn-color-fitted-level-3);\n",
              "}\n",
              "\n",
              ".sk-estimator-doc-link:hover span {\n",
              "  display: block;\n",
              "}\n",
              "\n",
              "/* \"?\"-specific style due to the `<a>` HTML tag */\n",
              "\n",
              "#sk-container-id-2 a.estimator_doc_link {\n",
              "  float: right;\n",
              "  font-size: 1rem;\n",
              "  line-height: 1em;\n",
              "  font-family: monospace;\n",
              "  background-color: var(--sklearn-color-background);\n",
              "  border-radius: 1rem;\n",
              "  height: 1rem;\n",
              "  width: 1rem;\n",
              "  text-decoration: none;\n",
              "  /* unfitted */\n",
              "  color: var(--sklearn-color-unfitted-level-1);\n",
              "  border: var(--sklearn-color-unfitted-level-1) 1pt solid;\n",
              "}\n",
              "\n",
              "#sk-container-id-2 a.estimator_doc_link.fitted {\n",
              "  /* fitted */\n",
              "  border: var(--sklearn-color-fitted-level-1) 1pt solid;\n",
              "  color: var(--sklearn-color-fitted-level-1);\n",
              "}\n",
              "\n",
              "/* On hover */\n",
              "#sk-container-id-2 a.estimator_doc_link:hover {\n",
              "  /* unfitted */\n",
              "  background-color: var(--sklearn-color-unfitted-level-3);\n",
              "  color: var(--sklearn-color-background);\n",
              "  text-decoration: none;\n",
              "}\n",
              "\n",
              "#sk-container-id-2 a.estimator_doc_link.fitted:hover {\n",
              "  /* fitted */\n",
              "  background-color: var(--sklearn-color-fitted-level-3);\n",
              "}\n",
              "</style><div id=\"sk-container-id-2\" class=\"sk-top-container\"><div class=\"sk-text-repr-fallback\"><pre>DecisionTreeClassifier(criterion=&#x27;entropy&#x27;, max_depth=3, random_state=42)</pre><b>In a Jupyter environment, please rerun this cell to show the HTML representation or trust the notebook. <br />On GitHub, the HTML representation is unable to render, please try loading this page with nbviewer.org.</b></div><div class=\"sk-container\" hidden><div class=\"sk-item\"><div class=\"sk-estimator fitted sk-toggleable\"><input class=\"sk-toggleable__control sk-hidden--visually\" id=\"sk-estimator-id-2\" type=\"checkbox\" checked><label for=\"sk-estimator-id-2\" class=\"sk-toggleable__label fitted sk-toggleable__label-arrow\"><div><div>DecisionTreeClassifier</div></div><div><a class=\"sk-estimator-doc-link fitted\" rel=\"noreferrer\" target=\"_blank\" href=\"https://scikit-learn.org/1.6/modules/generated/sklearn.tree.DecisionTreeClassifier.html\">?<span>Documentation for DecisionTreeClassifier</span></a><span class=\"sk-estimator-doc-link fitted\">i<span>Fitted</span></span></div></label><div class=\"sk-toggleable__content fitted\"><pre>DecisionTreeClassifier(criterion=&#x27;entropy&#x27;, max_depth=3, random_state=42)</pre></div> </div></div></div></div>"
            ]
          },
          "metadata": {},
          "execution_count": 66
        }
      ]
    },
    {
      "cell_type": "markdown",
      "source": [
        "### Evaluation and Interpretation"
      ],
      "metadata": {
        "id": "HWnstvGHCavz"
      }
    },
    {
      "cell_type": "markdown",
      "source": [
        "#### Task 16: Plot Tree\n",
        "Now let's see how our trained model tree looks like.\n",
        "\n",
        "Hint:\n",
        "1. Plot the tree with `plot_tree()`function in `sklearn.tree`\n",
        "2. Remember to correctly set the predicted class name and feature names."
      ],
      "metadata": {
        "id": "GbwiN6A1BM7T"
      }
    },
    {
      "cell_type": "code",
      "source": [
        "plt.figure(figsize=(20,10))  # Adjust the size as needed\n",
        "plot_tree(clf,\n",
        "          feature_names=X.columns,\n",
        "          class_names=['No Purchase', 'Purchase'],  # Adjust based on your Y labels\n",
        "          filled=True,\n",
        "          rounded=True)\n",
        "plt.show()"
      ],
      "metadata": {
        "id": "HgbYuIvvIykq",
        "colab": {
          "base_uri": "https://localhost:8080/",
          "height": 528
        },
        "outputId": "06801b0d-b6e8-4f59-c2b0-e979aafb4139"
      },
      "execution_count": 68,
      "outputs": [
        {
          "output_type": "display_data",
          "data": {
            "text/plain": [
              "<Figure size 2000x1000 with 1 Axes>"
            ],
            "image/png": "[encoded data removed]"
          },
          "metadata": {}
        }
      ]
    },
    {
      "cell_type": "markdown",
      "source": [
        "#### Task 17: Feature Importance\n",
        "Which feature is most important? What's the importance score of that feature?\n",
        "\n",
        "Hint: `feature_importances_`in `DecisionTreeClassifier` will show importance score. You can sort it to see the feature with maximum score."
      ],
      "metadata": {
        "id": "JFwsCFJgCfka"
      }
    },
    {
      "cell_type": "code",
      "source": [
        "import pandas as pd\n",
        "\n",
        "# Get feature importances\n",
        "importances = clf.feature_importances_\n",
        "\n",
        "# Create a DataFrame for easier viewing\n",
        "feature_importance_df = pd.DataFrame({\n",
        "    'Feature': X.columns,\n",
        "    'Importance': importances\n",
        "})\n",
        "\n",
        "# Sort by importance score in descending order\n",
        "feature_importance_df = feature_importance_df.sort_values(by='Importance', ascending=False)\n",
        "\n",
        "# Display the most important feature\n",
        "print(\"Most important feature:\", feature_importance_df.iloc[0]['Feature'])\n",
        "print(\"Importance score:\", feature_importance_df.iloc[0]['Importance'])\n",
        "\n",
        "# (Optional) Display full table\n",
        "print(feature_importance_df)"
      ],
      "metadata": {
        "id": "2aLw-vWNIzSd",
        "colab": {
          "base_uri": "https://localhost:8080/"
        },
        "outputId": "fe1d55a6-58cf-4440-e4e0-fef414adfa2d"
      },
      "execution_count": 69,
      "outputs": [
        {
          "output_type": "stream",
          "name": "stdout",
          "text": [
            "Most important feature: Freq\n",
            "Importance score: 0.8537703017499085\n",
            "                 Feature  Importance\n",
            "16                  Freq     0.85377\n",
            "8               source_h     0.14623\n",
            "2               source_c     0.00000\n",
            "3               source_b     0.00000\n",
            "0                     US     0.00000\n",
            "1               source_a     0.00000\n",
            "5               source_e     0.00000\n",
            "4               source_d     0.00000\n",
            "7               source_o     0.00000\n",
            "6               source_m     0.00000\n",
            "10              source_s     0.00000\n",
            "11              source_t     0.00000\n",
            "12              source_u     0.00000\n",
            "9               source_r     0.00000\n",
            "13              source_p     0.00000\n",
            "14              source_x     0.00000\n",
            "15              source_w     0.00000\n",
            "17  last_update_days_ago     0.00000\n",
            "18   1st_update_days_ago     0.00000\n",
            "19             Web order     0.00000\n",
            "20           Gender=male     0.00000\n",
            "21        Address_is_res     0.00000\n"
          ]
        }
      ]
    },
    {
      "cell_type": "markdown",
      "source": [
        "#### Task 18: Accuracy\n",
        "How good is your tree on test data? What's the accuracy?\n",
        "\n",
        "Hint:\n",
        "1. Predict with model on test data using `fit`\n",
        "2. Measure accuracy with `sklearn.metrics.accuracy_score`"
      ],
      "metadata": {
        "id": "778gGd6_DQBh"
      }
    },
    {
      "cell_type": "code",
      "source": [
        "Y_pred = clf.predict(X_test)\n",
        "\n",
        "# Calculate accuracy\n",
        "accuracy = accuracy_score(Y_test, Y_pred)\n",
        "\n",
        "# Print the result\n",
        "print(\"Accuracy on test data:\", accuracy)"
      ],
      "metadata": {
        "id": "c9bXobLiIz_e",
        "colab": {
          "base_uri": "https://localhost:8080/"
        },
        "outputId": "7231a008-a3ad-4c7c-eca7-fee80fb76200"
      },
      "execution_count": 70,
      "outputs": [
        {
          "output_type": "stream",
          "name": "stdout",
          "text": [
            "Accuracy on test data: 0.74\n"
          ]
        }
      ]
    },
    {
      "cell_type": "markdown",
      "source": [
        "## [Advanced Coding] Dive into Decision Tree\n",
        "\n",
        "This section is for you to navigate into details, such as building decision tree from sketch."
      ],
      "metadata": {
        "id": "rE9_r_0oC8XW"
      }
    },
    {
      "cell_type": "markdown",
      "source": [
        "### Finding the best splits\n",
        "\n",
        "**Entropy** ($H$) and **information gain** ($IG$) are useful tools for measuring the effectiveness of a split on the values of one variable for giving information on the value of another variable. Entropy measures how random data is, information gain is a measure of the reduction in randomness after performing a split.\n",
        "\n",
        "We wrote Python functions to calculate entropy and information gain"
      ],
      "metadata": {
        "id": "MU9CZNGCB_SK"
      }
    },
    {
      "cell_type": "code",
      "source": [
        "def entropy(target_column):\n",
        "    \"\"\"\n",
        "        computes -sum_i p_i * log_2 (p_i) for each i\n",
        "    \"\"\"\n",
        "    # get the counts of each target value\n",
        "    target_counts = target_column.value_counts().astype(float).values\n",
        "    total = target_column.count()\n",
        "    # compute probas\n",
        "    probas = target_counts/total\n",
        "    # p_i * log_2 (p_i)\n",
        "    entropy_components = probas * np.log2(probas)\n",
        "    # return negative sum\n",
        "    return - entropy_components.sum()\n",
        "\n",
        "def information_gain(df, info_column, target_column, threshold):\n",
        "    \"\"\"\n",
        "        computes H(target) - H(target | info > thresh) - H(target | info <= thresh)\n",
        "    \"\"\"\n",
        "    # split data\n",
        "    data_above_thresh = df[df[info_column] > threshold]\n",
        "    data_below_thresh = df[df[info_column] <= threshold]\n",
        "    # get entropy\n",
        "    H = entropy(df[target_column])\n",
        "    entropy_above = entropy(data_above_thresh[target_column])\n",
        "    entropy_below = entropy(data_below_thresh[target_column])\n",
        "    # compute weighted average\n",
        "    ct_above = data_above_thresh.shape[0]\n",
        "    ct_below = data_below_thresh.shape[0]\n",
        "    tot = float(df.shape[0])\n",
        "    return H - entropy_above*ct_above/tot - entropy_below*ct_below/tot"
      ],
      "metadata": {
        "id": "PcFkADc4EWAV"
      },
      "execution_count": null,
      "outputs": []
    },
    {
      "cell_type": "markdown",
      "source": [
        "Now that we have a way of calculating $H$ and $IG$, let's test our prior guess as a good split point as a split on `last update days ago` allows us to predict people who will purchase."
      ],
      "metadata": {
        "id": "ro25g-GYEaZG"
      }
    },
    {
      "cell_type": "code",
      "source": [
        "col = \"last_update_days_ago\"\n",
        "threshold = 2000 #### You can also try other value\n",
        "prior_entropy = entropy(y)\n",
        "IG = information_gain(df, col, \"Purchase\", threshold)\n",
        "print (\"IG of %.4f - using a threshold of %.2f - given a prior entropy of %.4f\" % (IG, threshold, prior_entropy))"
      ],
      "metadata": {
        "colab": {
          "base_uri": "https://localhost:8080/"
        },
        "id": "9Mv-703AEaB7",
        "outputId": "bedd9ca2-93b9-4b96-c54f-492aa8b87c7f"
      },
      "execution_count": null,
      "outputs": [
        {
          "output_type": "stream",
          "name": "stdout",
          "text": [
            "IG of 0.0088 - using a threshold of 2000.00 - given a prior entropy of 1.0000\n"
          ]
        }
      ]
    },
    {
      "cell_type": "markdown",
      "source": [
        "How good was our guess? Let's loop through all possible splits on fare and see what is the best!"
      ],
      "metadata": {
        "id": "YuSsVhv7Fdon"
      }
    },
    {
      "cell_type": "code",
      "source": [
        "def best_threshold(df, info_column, target_column, criteria=information_gain):\n",
        "    maximum_ig = 0\n",
        "    maximum_threshold = 0\n",
        "\n",
        "    for thresh in df[info_column].unique():\n",
        "        IG = criteria(df, info_column, target_column, thresh)\n",
        "        if IG > maximum_ig:\n",
        "            maximum_ig = IG\n",
        "            maximum_threshold = thresh\n",
        "\n",
        "    return (maximum_threshold, maximum_ig)\n",
        "\n",
        "\n",
        "maximum_threshold, maximum_ig = best_threshold(df, col, \"Purchase\")\n",
        "\n",
        "print (\"The best split threshold for %s is %.2f - which provides a maximum IG of %.4f.\" % (col, maximum_threshold, maximum_ig ))"
      ],
      "metadata": {
        "colab": {
          "base_uri": "https://localhost:8080/"
        },
        "id": "8JyDuaGZFdLb",
        "outputId": "712ba395-b185-485e-e60b-435e975cf069"
      },
      "execution_count": null,
      "outputs": [
        {
          "output_type": "stream",
          "name": "stdout",
          "text": [
            "The best split threshold for last_update_days_ago is 2656.00 - which provides a maximum IG of 0.0296.\n"
          ]
        }
      ]
    },
    {
      "cell_type": "markdown",
      "source": [
        "Other observed features may also give us (strong) clues about survival"
      ],
      "metadata": {
        "id": "0WQ4GE_n2IjN"
      }
    },
    {
      "cell_type": "markdown",
      "source": [
        "So, then ... what feature gives the most effective split?"
      ],
      "metadata": {
        "id": "GyZApcuiGNQv"
      }
    },
    {
      "cell_type": "code",
      "source": [
        "def best_split(df, info_columns, target_column, criteria=information_gain):\n",
        "    maximum_ig = 0\n",
        "    maximum_threshold = 0\n",
        "    maximum_column = \"\"\n",
        "\n",
        "    for info_column in info_columns:\n",
        "        thresh, ig = best_threshold(df, info_column, target_column, criteria)\n",
        "\n",
        "        if ig > maximum_ig:\n",
        "            maximum_ig = ig\n",
        "            maximum_threshold = thresh\n",
        "            maximum_column = info_column\n",
        "\n",
        "    return maximum_column, maximum_threshold, maximum_ig\n",
        "\n",
        "max_col, max_threshold, max_ig = best_split(df, X.columns, \"Purchase\")\n",
        "\n",
        "\n",
        "print (\"The best column to split on is %s giving us a IG of %.4f using a thresh of %.2f\" % (max_col, max_ig, max_threshold))"
      ],
      "metadata": {
        "colab": {
          "base_uri": "https://localhost:8080/"
        },
        "id": "b-ztJTLXGMze",
        "outputId": "e48da1c9-8101-42a6-be5b-d684c12f9869"
      },
      "execution_count": null,
      "outputs": [
        {
          "output_type": "stream",
          "name": "stdout",
          "text": [
            "The best column to split on is Freq giving us a IG of 0.2350 using a thresh of 0.00\n"
          ]
        }
      ]
    }
  ]
}