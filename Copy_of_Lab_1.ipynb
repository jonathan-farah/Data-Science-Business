{
  "nbformat": 4,
  "nbformat_minor": 0,
  "metadata": {
    "colab": {
      "provenance": [],
      "toc_visible": true
    },
    "kernelspec": {
      "name": "python3",
      "display_name": "Python 3"
    },
    "language_info": {
      "name": "python"
    }
  },
  "cells": [
    {
      "cell_type": "markdown",
      "source": [
        "# Lab 1 - Introduction of Python, Google Colab\n",
        "---\n",
        "**Summer 2025 - Intructor: Joyce Yang**\n",
        "\n",
        "**Adapted from teaching materials by Prof. Chris Volinksy Fall 2024.**"
      ],
      "metadata": {
        "id": "-Q-Tjlhzsq3_"
      }
    },
    {
      "cell_type": "markdown",
      "source": [
        "## Python and Colab\n"
      ],
      "metadata": {
        "id": "f071s4BQuIBw"
      }
    },
    {
      "cell_type": "markdown",
      "source": [
        "As mentioned in the syllabus, this class requires a certain level of familiarity with Python. This lab is designed to help you determine whether the course is appropriate for your current skill level.\n",
        "\n",
        "We will be using **Google Colab** as our Python development environment. Google Colab is a cloud-based Interactive Development Environment (IDE), similar to other IDEs such as Anaconda Spyder, VS Code, or Jupyter Notebook that run on your local machine.\n",
        "\n",
        "There are two type of cells in notebook-style IDE: **Code Cell** and **Text Cell**. One key advantage of using a notebook-style IDE like Google Colab is the ability to break code into chunks, which can be executed independently through code cells. Unlike VS Code or Spyder, where the entire file typically needs to be run at once, notebook environments allow for a more modular and interactive approach. Notebook text cells use `markdown` syntax -- a rich text formatting language that allows you to write mathematical equations, add hyperlinks, and include formatted text and documents with ease. This structure makes notebooks especially useful for documenting your workflow and combining code with narrative explanations.\n",
        "\n",
        "Google Colab, as an online platform, makes it easy to share work and collaborate with others in real time. Fortunately, NYU provides the environment, compute resources, and storage needed to use the free version of Colab.\n",
        "\n",
        "**I recommend completing your homework and labs in Google Colab for convenience.** Since Colab provides a consistent computing environment, it simplifies debugging and makes it easier for both you and me to identify and resolve issues efficiently."
      ],
      "metadata": {
        "id": "8VZznWjL3PeX"
      }
    },
    {
      "cell_type": "markdown",
      "source": [
        "### Integration with Drive\n"
      ],
      "metadata": {
        "id": "IaLPdPkc1NQt"
      }
    },
    {
      "cell_type": "markdown",
      "source": [
        "Colaboratory is integrated with Google Drive. It allows you to share, comment, and collaborate on the same document with multiple people:\n",
        "\n",
        "* The **SHARE** button (top-right of the toolbar) allows you to share the notebook and control permissions set on it.\n",
        "\n",
        "* **File->Save a Copy in Drive** creates a copy of the notebook in *your* Google Drive.\n",
        "\n",
        "* **File->Revision history** shows the notebook's revision history - in case you accidentally delete something or want to revert to a previous working version.\n",
        "\n",
        "**IMPORTANT** : Save every class notebook and module **IN YOUR OWN GOOGLE DRIVE** as soon as you open it.  That way you have your own copy to work on, edit and share."
      ],
      "metadata": {
        "id": "45k9t9AI3NHT"
      }
    },
    {
      "cell_type": "markdown",
      "source": [
        "#### **Task 1**:\n",
        "**Save a COPY of this notebook in your own Google Drive.**\n",
        "\n",
        "This is required whenever you use one of the class notebooks - lab or homework. Direct modification on this file may lead to record lost.\n",
        "\n"
      ],
      "metadata": {
        "id": "1SatFq122cbv"
      }
    },
    {
      "cell_type": "markdown",
      "source": [
        "### Different Cell Types"
      ],
      "metadata": {
        "id": "kPUmUD9V3SdW"
      }
    },
    {
      "cell_type": "markdown",
      "source": [
        "Jupyter notebooks are made up of **cells.**  There are two basics types of entries in a notebook: **text cells** for documentation, description and comments, and **code cells** that contain Python code.  \n",
        "\n",
        "You can choose to add a text or code cell by clicking the `+ Code` or `+ Text` on the top left of the interface. You can also navigate inside `Insert` on the top left of the page.\n"
      ],
      "metadata": {
        "id": "b184vNJV3rL8"
      }
    },
    {
      "cell_type": "markdown",
      "source": [
        "#### Text Cells and Markdown"
      ],
      "metadata": {
        "id": "tkwxPN3v3Dg5"
      }
    },
    {
      "cell_type": "markdown",
      "source": [
        "**!!This is a text cell!!**\n",
        "\n",
        "You create a text cell by clicking the `+ Text` button from the top left of the interface or using the menu item `Insert=>Text Cell`. Hovering at the bottom of any existing cell, you can also find `+ Text` button.\n",
        "\n",
        "Following are key syntax rules that you may find useful:\n",
        "\n",
        "- Hashtags (number sign \\#) are useful for titles.  Start a cell with hashtag text and Colab will  create a table of contents on the left menu bar. Single hashtags are main sections, and double, triple, or quad hashtags (####) are sub-sections.You can observe the layout from `Table of contents`.\n",
        "- Surround words with \\*asterisks\\* or \\_underscores\\_ to italicize things: _underscore example_, *asterisk_example*.\n",
        "- Backslash (\\\\) to get those special characters not to act special (see code in the preceeding item).\n",
        "- Double **asterisks** (\\**)  make things bold.\n",
        "- Square Brackets [ ] are for links and images.\n",
        "- Links can be created using square brackets including a label with the URL in parenthesis, such as [Link text](URL Here).    Example: [Google](https://www.google.com/)\n",
        "- You can create bullet lists by starting a line with a dash \\- or an asterisk \\* (or by using the formatting tools at the top of the text cell).  (Just like this list!)\n",
        "- You can format code in a text cell using backticks \\` : such as `this is a line of code`\n",
        "- Type a colon \\: to get a menu of emojis ❗😀 🌮 🧲 👸 💻\n",
        "- Also, HTML code is allowed. Some resources can be found in [HTML w3schools](http://www.w3schools.com/html/html_examples.asp) <p style=\"color:red;\">This is text formatted with HTML.</p>\n",
        "\n",
        "- And you can write math with $\\LaTeX$  (LaTeX is a typesetting language for the production of scientific documents https://www.latex-project.org/): You use LaTeX in Jupyter notebook markdown cells by wrapping the latex code in dollar signs, $x = \\frac{-b \\pm \\sqrt{b^2 - 4ac}}{2a}$. If you don't know how to write a symbol, you can go to [Detexify](http://detexify.kirelabs.org/classify.html).\n",
        "\n",
        "\n",
        "Some great Markdown references:\n",
        "- [Markdown Cheatsheet](https://www.markdownguide.org/cheat-sheet/)\n",
        "- [Guide to Markdown](/notebooks/markdown_guide.ipynb)"
      ],
      "metadata": {
        "id": "H1kdRxJB5IIB"
      }
    },
    {
      "cell_type": "markdown",
      "source": [
        "##### **Task 2**\n",
        "\n",
        "**Please complete the following in Text Cells using proper markdown syntax:**\n",
        "\n",
        "1. Create a subsection under \"Task 2\" titled About Me.\n",
        "2. Write a short self-introduction (2–3 sentences) that includes your name.\n",
        "3. Bold your name and italicize the last sentence of your introduction.\n",
        "4. Create another subsection at the same level as \"About Me\" titled \"My Favorite Songs\".\n",
        "5. List 3 of your favorite songs using bullet points, and for each song, attach a YouTube link to the song title (make the song name a clickable link)."
      ],
      "metadata": {
        "id": "CrUX75tF9uLX"
      }
    },
    {
      "cell_type": "markdown",
      "source": [
        "######**About me**"
      ],
      "metadata": {
        "id": "80cgwvpb-qF9"
      }
    },
    {
      "cell_type": "markdown",
      "source": [
        "I am **Jonathan Farah**, I am a Computer Engineering major at NYU Tandon. *I am born in NYC and currently live and work in PA*"
      ],
      "metadata": {
        "id": "Q5sG23-LMoFu"
      }
    },
    {
      "cell_type": "markdown",
      "source": [
        "######My Favorite Songs"
      ],
      "metadata": {
        "id": "9WcUG81kNmnF"
      }
    },
    {
      "cell_type": "markdown",
      "source": [
        "Monster-Skillet https://www.youtube.com/watch?v=1mjlM_RnsVE&list=RD1mjlM_RnsVE&start_radio=1\n",
        "Faith in Me- Stellar https://www.youtube.com/watch?v=bdFJPZHB3nA&list=RDbdFJPZHB3nA&start_radio=1\n",
        "Eyes Closed-Imagine Dragons\n",
        "https://www.youtube.com/watch?v=v08qmr8m_-w&list=RDv08qmr8m_-w&start_radio=1"
      ],
      "metadata": {
        "id": "UPbCw5IoNxOg"
      }
    },
    {
      "cell_type": "markdown",
      "source": [
        "In a code cell, we can type any Python commands, and run them by clicking the **Play icon**  ▶ or use the keyboard shortcut \"Command/Ctrl+Enter\".\n",
        "\n",
        "also:\n",
        "* Type **Shift+Enter** to run the cell and move focus to the next cell (adding one if none exists); or\n",
        "* Type **Alt/Option+Enter** to run the cell and insert a new code cell immediately below it.\n",
        "\n",
        "Importantly, some of the results of running a cell are \"remembered\" for subsequent cells, as long as the session continues running.  If you change a variable in an earlier cell, it will be remembered for the cell you are running.   \n",
        "\n",
        "For example, in the following cell, it will remember that the **_VARIABLE_** called \"x\" is  the sum of two given numbers.  Once you run that cell, variable \"x\" will be available for use in cells below. Please select it and press the ▶ button to run it.  Then select the following cell and run it."
      ],
      "metadata": {
        "id": "x6Vz61RV6eGZ"
      }
    },
    {
      "cell_type": "markdown",
      "source": [
        "If a cell relies on a variable that not defined in current the current cell, you must run the prior cell to make that information available in future cells (*we cannot just call \"x\" in other cell if we have never define \"x\" and execute before*)!\n",
        "\n",
        "Sometimes you might need to re-run the entire notebook to re-initiate things.   The Colab \"Runtime\" menu allows you to run the entire notebook, or run everything up to the current cell, or everything after the current cell.\n",
        "\n",
        "**Writting code in sequence from top to bottom is recommended due to the potential need of re-run**. During grading process, your code might be re-runned. Any error messages caused by inproper order of code will have points deducted."
      ],
      "metadata": {
        "id": "n_WcbBJL7pkn"
      }
    },
    {
      "cell_type": "markdown",
      "source": [
        "##### **Task 3**\n",
        "\n",
        "**Run the following two code cells**"
      ],
      "metadata": {
        "id": "GFEM1tZC6vel"
      }
    },
    {
      "cell_type": "code",
      "source": [
        "x = 5 + 5"
      ],
      "metadata": {
        "id": "462dDJnH6h99"
      },
      "execution_count": 1,
      "outputs": []
    },
    {
      "cell_type": "code",
      "source": [
        "print(\"The value of the 'x' variable is \" + str(x) + \".\")"
      ],
      "metadata": {
        "id": "cuN8hbqA7WDV",
        "colab": {
          "base_uri": "https://localhost:8080/"
        },
        "outputId": "df56f9b6-50c7-4434-bcec-fb70fb6679a1"
      },
      "execution_count": 2,
      "outputs": [
        {
          "output_type": "stream",
          "name": "stdout",
          "text": [
            "The value of the 'x' variable is 10.\n"
          ]
        }
      ]
    },
    {
      "cell_type": "markdown",
      "source": [
        "### Other IDEs"
      ],
      "metadata": {
        "id": "xm-7zDe92qZk"
      }
    },
    {
      "cell_type": "markdown",
      "source": [
        "Some of you with previous coding experience might be familiar with other IDEs, that run locally on your laptop or other environment.  There are many common IDEs available to code, including [PyCharm](https://www.jetbrains.com/pycharm/),  [Visual Studio Code](https://code.visualstudio.com/) _Jupyter Notebook_, _Anaconda_, and _Spyder_.  These have mostly the same functionality but have different looks and feels.    The main difference is these run _locally_, on your machine, and not in the cloud, so you are responsible for the compute and storage.   If you have a large dataset, or require a lot of compute, running locally **might** be faster and more convenient in some cases than running on the cloud.    \n",
        "\n",
        "Students can use any IDE they like as long as they can output HWs and project code as a .ipynb file.  "
      ],
      "metadata": {
        "id": "ajrogjJU4sS4"
      }
    },
    {
      "cell_type": "markdown",
      "source": [
        "## Python Basics\n",
        "\n",
        "Now, it's the real time to test on your Python skill."
      ],
      "metadata": {
        "id": "NuyYno8lAlA1"
      }
    },
    {
      "cell_type": "markdown",
      "source": [
        "### **Task 4**\n",
        "**Define two variables and assign an integer to the first and a float to the second. Define a new variable and assign the sum of the previous two variables. What's the data type of the third variable?**"
      ],
      "metadata": {
        "id": "8jwtvxEUBUCL"
      }
    },
    {
      "cell_type": "markdown",
      "source": [
        "### **Task 5**"
      ],
      "metadata": {
        "id": "oRyIK9PTBfOI"
      }
    },
    {
      "cell_type": "markdown",
      "source": [
        "**Create a Python list named `fruits` that contains 5 fruits: Banana, Apple, Orange, Mango, Strawberry**"
      ],
      "metadata": {
        "id": "1x1VS_MCBkaH"
      }
    },
    {
      "cell_type": "code",
      "source": [
        "fruits = [\"Banana\",\"Apple\",\"Orange\",\"Mango\",\"Strawberry\"]"
      ],
      "metadata": {
        "id": "-F_jiM8a8kWx"
      },
      "execution_count": 5,
      "outputs": []
    },
    {
      "cell_type": "markdown",
      "source": [
        "### **Task 6**"
      ],
      "metadata": {
        "id": "eekoDMN0EisY"
      }
    },
    {
      "cell_type": "markdown",
      "source": [
        "**Create a Python dictionary named `fruits_dict` where `Key` is the name of the fruit above (as a string) and `Value` is the number of letters in that fruit's name (i.e., the length of the string). The value should be computed via python function.**"
      ],
      "metadata": {
        "id": "0v2mpcziEl3l"
      }
    },
    {
      "cell_type": "code",
      "source": [
        "fruits_dict = {fruits[i]: len(fruits[i]) for i in range(len(fruits))}"
      ],
      "metadata": {
        "id": "oWVbniFh9SjI"
      },
      "execution_count": 6,
      "outputs": []
    },
    {
      "cell_type": "markdown",
      "source": [
        "### **Task 7**"
      ],
      "metadata": {
        "id": "z_IEdPJSDXQj"
      }
    },
    {
      "cell_type": "markdown",
      "source": [
        "**Sort `fruits_dict` dictionary by `Value` (from shortest to longest)**\n"
      ],
      "metadata": {
        "id": "48PWHd9yDaSU"
      }
    },
    {
      "cell_type": "code",
      "source": [
        "sorted_dic = sorted(fruits_dict.items(), key=lambda item: item[1])\n",
        "fruits_dict = dict(sorted_dic)"
      ],
      "metadata": {
        "id": "2F3N-m-vAApq"
      },
      "execution_count": 7,
      "outputs": []
    },
    {
      "cell_type": "markdown",
      "source": [
        "### **Task 8**\n",
        "\n"
      ],
      "metadata": {
        "id": "jaTE6ZKUGDAt"
      }
    },
    {
      "cell_type": "markdown",
      "source": [
        "**Create a function called `do_calc` that takes a list (input_list) and returns a new list (output_list) where each element of the original will be increased by 1 and then divided by 2.**"
      ],
      "metadata": {
        "id": "sWPQysyTGpoc"
      }
    },
    {
      "cell_type": "code",
      "source": [
        "def do_calc(input_list):\n",
        "  i = 0\n",
        "  output_list = [0]*len(input_list)\n",
        "  while (i < len(input_list)):\n",
        "    output_list[i] = (input_list[i]+1)//2\n",
        "    i+=1\n",
        "  return output_list\n",
        "print(do_calc([1,3,5,7,9]))\n"
      ],
      "metadata": {
        "colab": {
          "base_uri": "https://localhost:8080/"
        },
        "id": "I4Vmbh-ZAnB_",
        "outputId": "ac264f54-c338-4d1b-aab5-2ffdd61d1844"
      },
      "execution_count": 21,
      "outputs": [
        {
          "output_type": "stream",
          "name": "stdout",
          "text": [
            "[1, 2, 3, 4, 5]\n"
          ]
        }
      ]
    },
    {
      "cell_type": "markdown",
      "source": [
        "### **Task 9**"
      ],
      "metadata": {
        "id": "CEBECMDwGoHg"
      }
    },
    {
      "cell_type": "markdown",
      "source": [
        "**Extract the `Value` from `fruits_dict` to form a new list `count_letters`. Apply the `do_calc` function to `count_letters`. Print `count_letters` and the modified `count_letters`**."
      ],
      "metadata": {
        "id": "itSixQd1GtA-"
      }
    },
    {
      "cell_type": "code",
      "source": [
        "count_letters = []\n",
        "i=0\n",
        "for value in fruits_dict.values():\n",
        "  count_letters.append(value)\n",
        "  i+=1\n",
        "print(count_letters)\n",
        "count_letters = do_calc(count_letters)\n",
        "print(count_letters)"
      ],
      "metadata": {
        "colab": {
          "base_uri": "https://localhost:8080/"
        },
        "id": "MBXnn9qWIMhW",
        "outputId": "df7c5790-4df9-40af-aa02-991578664cf3"
      },
      "execution_count": 23,
      "outputs": [
        {
          "output_type": "stream",
          "name": "stdout",
          "text": [
            "[5, 5, 6, 6, 10]\n",
            "[3, 3, 3, 3, 5]\n"
          ]
        }
      ]
    },
    {
      "cell_type": "markdown",
      "source": [
        "## Saving files and scripts\n",
        "\n",
        "Python notebooks can be downloaded and saved (which you will need to do to submit your homeworks) as an .ipynb file, which is what you will need to submit for your homeworks.\n",
        "\n",
        "This is easily done from the Colab menu:\n",
        "\n",
        "`File => Download => Download .ipynb`\n",
        "\n",
        "In addition a notebook can also be downloaded as a .py file, which allows it to be used as a standalone _script_ later.\n",
        "\n",
        "`File => Download => Download .py`\n",
        "\n",
        "A python _script_ is a (often small) program saved as a .py file that can be run as a standalone command. Scripts often cobble other commands into something useful that can be run again and again.\n",
        "\n",
        "The \".py\" extension on the file identifies the file as a script that can be run by itself.   "
      ],
      "metadata": {
        "id": "9-z1MUF-2qdg"
      }
    },
    {
      "cell_type": "markdown",
      "source": [
        "##### Task 10: Download the notebook in `.ipynb` and submitted in BrightSpace"
      ],
      "metadata": {
        "id": "wnvdARRd83YX"
      }
    }
  ]
}